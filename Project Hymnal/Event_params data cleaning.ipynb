{
 "cells": [
  {
   "cell_type": "markdown",
   "metadata": {},
   "source": [
    "# Event_params formatting and visualization analysis"
   ]
  },
  {
   "cell_type": "code",
   "execution_count": 73,
   "metadata": {},
   "outputs": [],
   "source": [
    "#Import pandas, matplotlib.pyplot, and seaborn \n",
    "import numpy as np\n",
    "import pandas as pd\n",
    "import matplotlib.pyplot as plt\n",
    "import seaborn as sns\n",
    "import os\n",
    "import json\n",
    "\n",
    "plt.style.use(['dark_background'])\n",
    "\n",
    "from library.sb_utils import save_file"
   ]
  },
  {
   "cell_type": "code",
   "execution_count": 2,
   "metadata": {},
   "outputs": [],
   "source": [
    "with open('./data/hymnal_data_export.json', encoding=\"utf8\") as f:\n",
    "    data = f.readlines()\n",
    "    data = [json.loads(line) for line in data]"
   ]
  },
  {
   "cell_type": "code",
   "execution_count": 3,
   "metadata": {},
   "outputs": [
    {
     "data": {
      "text/html": [
       "<div>\n",
       "<style scoped>\n",
       "    .dataframe tbody tr th:only-of-type {\n",
       "        vertical-align: middle;\n",
       "    }\n",
       "\n",
       "    .dataframe tbody tr th {\n",
       "        vertical-align: top;\n",
       "    }\n",
       "\n",
       "    .dataframe thead th {\n",
       "        text-align: right;\n",
       "    }\n",
       "</style>\n",
       "<table border=\"1\" class=\"dataframe\">\n",
       "  <thead>\n",
       "    <tr style=\"text-align: right;\">\n",
       "      <th></th>\n",
       "      <th>0</th>\n",
       "    </tr>\n",
       "  </thead>\n",
       "  <tbody>\n",
       "    <tr>\n",
       "      <th>event_date</th>\n",
       "      <td>20201107</td>\n",
       "    </tr>\n",
       "    <tr>\n",
       "      <th>event_timestamp</th>\n",
       "      <td>1604801718108000</td>\n",
       "    </tr>\n",
       "    <tr>\n",
       "      <th>event_name</th>\n",
       "      <td>session_start</td>\n",
       "    </tr>\n",
       "    <tr>\n",
       "      <th>event_params</th>\n",
       "      <td>[{'key': 'firebase_event_origin', 'value': {'s...</td>\n",
       "    </tr>\n",
       "    <tr>\n",
       "      <th>event_previous_timestamp</th>\n",
       "      <td>1604785674744000</td>\n",
       "    </tr>\n",
       "    <tr>\n",
       "      <th>event_bundle_sequence_id</th>\n",
       "      <td>13</td>\n",
       "    </tr>\n",
       "    <tr>\n",
       "      <th>event_server_timestamp_offset</th>\n",
       "      <td>754702</td>\n",
       "    </tr>\n",
       "    <tr>\n",
       "      <th>user_pseudo_id</th>\n",
       "      <td>cb052c8ce7b261aecf783ce043089fb3</td>\n",
       "    </tr>\n",
       "    <tr>\n",
       "      <th>user_properties</th>\n",
       "      <td>[{'key': 'ga_session_id', 'value': {'int_value...</td>\n",
       "    </tr>\n",
       "    <tr>\n",
       "      <th>user_first_touch_timestamp</th>\n",
       "      <td>1562977643627000</td>\n",
       "    </tr>\n",
       "    <tr>\n",
       "      <th>stream_id</th>\n",
       "      <td>1440534155</td>\n",
       "    </tr>\n",
       "    <tr>\n",
       "      <th>platform</th>\n",
       "      <td>ANDROID</td>\n",
       "    </tr>\n",
       "    <tr>\n",
       "      <th>items</th>\n",
       "      <td>[]</td>\n",
       "    </tr>\n",
       "    <tr>\n",
       "      <th>device.category</th>\n",
       "      <td>mobile</td>\n",
       "    </tr>\n",
       "    <tr>\n",
       "      <th>device.mobile_brand_name</th>\n",
       "      <td>Google</td>\n",
       "    </tr>\n",
       "    <tr>\n",
       "      <th>device.mobile_model_name</th>\n",
       "      <td>Pixel</td>\n",
       "    </tr>\n",
       "    <tr>\n",
       "      <th>device.mobile_os_hardware_model</th>\n",
       "      <td>Pixel</td>\n",
       "    </tr>\n",
       "    <tr>\n",
       "      <th>device.operating_system</th>\n",
       "      <td>ANDROID</td>\n",
       "    </tr>\n",
       "    <tr>\n",
       "      <th>device.operating_system_version</th>\n",
       "      <td>10</td>\n",
       "    </tr>\n",
       "    <tr>\n",
       "      <th>device.language</th>\n",
       "      <td>en-us</td>\n",
       "    </tr>\n",
       "    <tr>\n",
       "      <th>device.is_limited_ad_tracking</th>\n",
       "      <td>No</td>\n",
       "    </tr>\n",
       "    <tr>\n",
       "      <th>device.time_zone_offset_seconds</th>\n",
       "      <td>-21600</td>\n",
       "    </tr>\n",
       "    <tr>\n",
       "      <th>geo.continent</th>\n",
       "      <td>Americas</td>\n",
       "    </tr>\n",
       "    <tr>\n",
       "      <th>geo.country</th>\n",
       "      <td>United States</td>\n",
       "    </tr>\n",
       "    <tr>\n",
       "      <th>geo.region</th>\n",
       "      <td>Texas</td>\n",
       "    </tr>\n",
       "    <tr>\n",
       "      <th>geo.city</th>\n",
       "      <td>Austin</td>\n",
       "    </tr>\n",
       "    <tr>\n",
       "      <th>geo.sub_continent</th>\n",
       "      <td>Northern America</td>\n",
       "    </tr>\n",
       "    <tr>\n",
       "      <th>geo.metro</th>\n",
       "      <td>(not set)</td>\n",
       "    </tr>\n",
       "    <tr>\n",
       "      <th>app_info.id</th>\n",
       "      <td>org.livingletter.hymnal</td>\n",
       "    </tr>\n",
       "    <tr>\n",
       "      <th>app_info.version</th>\n",
       "      <td>1.1.7</td>\n",
       "    </tr>\n",
       "    <tr>\n",
       "      <th>app_info.firebase_app_id</th>\n",
       "      <td>1:76837103840:android:e1d753a7fbfeeaac</td>\n",
       "    </tr>\n",
       "    <tr>\n",
       "      <th>app_info.install_source</th>\n",
       "      <td>com.android.vending</td>\n",
       "    </tr>\n",
       "    <tr>\n",
       "      <th>traffic_source.medium</th>\n",
       "      <td>organic</td>\n",
       "    </tr>\n",
       "    <tr>\n",
       "      <th>traffic_source.source</th>\n",
       "      <td>google-play</td>\n",
       "    </tr>\n",
       "    <tr>\n",
       "      <th>ecommerce.unique_items</th>\n",
       "      <td>NaN</td>\n",
       "    </tr>\n",
       "    <tr>\n",
       "      <th>device.mobile_marketing_name</th>\n",
       "      <td>NaN</td>\n",
       "    </tr>\n",
       "    <tr>\n",
       "      <th>traffic_source.name</th>\n",
       "      <td>NaN</td>\n",
       "    </tr>\n",
       "    <tr>\n",
       "      <th>device.vendor_id</th>\n",
       "      <td>NaN</td>\n",
       "    </tr>\n",
       "    <tr>\n",
       "      <th>ecommerce.transaction_id</th>\n",
       "      <td>NaN</td>\n",
       "    </tr>\n",
       "  </tbody>\n",
       "</table>\n",
       "</div>"
      ],
      "text/plain": [
       "                                                                                 0\n",
       "event_date                                                                20201107\n",
       "event_timestamp                                                   1604801718108000\n",
       "event_name                                                           session_start\n",
       "event_params                     [{'key': 'firebase_event_origin', 'value': {'s...\n",
       "event_previous_timestamp                                          1604785674744000\n",
       "event_bundle_sequence_id                                                        13\n",
       "event_server_timestamp_offset                                               754702\n",
       "user_pseudo_id                                    cb052c8ce7b261aecf783ce043089fb3\n",
       "user_properties                  [{'key': 'ga_session_id', 'value': {'int_value...\n",
       "user_first_touch_timestamp                                        1562977643627000\n",
       "stream_id                                                               1440534155\n",
       "platform                                                                   ANDROID\n",
       "items                                                                           []\n",
       "device.category                                                             mobile\n",
       "device.mobile_brand_name                                                    Google\n",
       "device.mobile_model_name                                                     Pixel\n",
       "device.mobile_os_hardware_model                                              Pixel\n",
       "device.operating_system                                                    ANDROID\n",
       "device.operating_system_version                                                 10\n",
       "device.language                                                              en-us\n",
       "device.is_limited_ad_tracking                                                   No\n",
       "device.time_zone_offset_seconds                                             -21600\n",
       "geo.continent                                                             Americas\n",
       "geo.country                                                          United States\n",
       "geo.region                                                                   Texas\n",
       "geo.city                                                                    Austin\n",
       "geo.sub_continent                                                 Northern America\n",
       "geo.metro                                                                (not set)\n",
       "app_info.id                                                org.livingletter.hymnal\n",
       "app_info.version                                                             1.1.7\n",
       "app_info.firebase_app_id                    1:76837103840:android:e1d753a7fbfeeaac\n",
       "app_info.install_source                                        com.android.vending\n",
       "traffic_source.medium                                                      organic\n",
       "traffic_source.source                                                  google-play\n",
       "ecommerce.unique_items                                                         NaN\n",
       "device.mobile_marketing_name                                                   NaN\n",
       "traffic_source.name                                                            NaN\n",
       "device.vendor_id                                                               NaN\n",
       "ecommerce.transaction_id                                                       NaN"
      ]
     },
     "execution_count": 3,
     "metadata": {},
     "output_type": "execute_result"
    }
   ],
   "source": [
    "df = pd.json_normalize(data, max_level=1)\n",
    "df.head(1).T"
   ]
  },
  {
   "cell_type": "code",
   "execution_count": 4,
   "metadata": {},
   "outputs": [
    {
     "data": {
      "text/html": [
       "<div>\n",
       "<style scoped>\n",
       "    .dataframe tbody tr th:only-of-type {\n",
       "        vertical-align: middle;\n",
       "    }\n",
       "\n",
       "    .dataframe tbody tr th {\n",
       "        vertical-align: top;\n",
       "    }\n",
       "\n",
       "    .dataframe thead th {\n",
       "        text-align: right;\n",
       "    }\n",
       "</style>\n",
       "<table border=\"1\" class=\"dataframe\">\n",
       "  <thead>\n",
       "    <tr style=\"text-align: right;\">\n",
       "      <th></th>\n",
       "      <th>0</th>\n",
       "    </tr>\n",
       "  </thead>\n",
       "  <tbody>\n",
       "    <tr>\n",
       "      <th>event_date</th>\n",
       "      <td>20201107</td>\n",
       "    </tr>\n",
       "    <tr>\n",
       "      <th>event_timestamp</th>\n",
       "      <td>1604801718108000</td>\n",
       "    </tr>\n",
       "    <tr>\n",
       "      <th>event_name</th>\n",
       "      <td>session_start</td>\n",
       "    </tr>\n",
       "    <tr>\n",
       "      <th>event_params</th>\n",
       "      <td>[{'key': 'firebase_event_origin', 'value': {'s...</td>\n",
       "    </tr>\n",
       "    <tr>\n",
       "      <th>event_previous_timestamp</th>\n",
       "      <td>1604785674744000</td>\n",
       "    </tr>\n",
       "    <tr>\n",
       "      <th>event_bundle_sequence_id</th>\n",
       "      <td>13</td>\n",
       "    </tr>\n",
       "    <tr>\n",
       "      <th>event_server_timestamp_offset</th>\n",
       "      <td>754702</td>\n",
       "    </tr>\n",
       "    <tr>\n",
       "      <th>user_pseudo_id</th>\n",
       "      <td>cb052c8ce7b261aecf783ce043089fb3</td>\n",
       "    </tr>\n",
       "    <tr>\n",
       "      <th>user_properties</th>\n",
       "      <td>[{'key': 'ga_session_id', 'value': {'int_value...</td>\n",
       "    </tr>\n",
       "    <tr>\n",
       "      <th>user_first_touch_timestamp</th>\n",
       "      <td>1562977643627000</td>\n",
       "    </tr>\n",
       "    <tr>\n",
       "      <th>stream_id</th>\n",
       "      <td>1440534155</td>\n",
       "    </tr>\n",
       "    <tr>\n",
       "      <th>platform</th>\n",
       "      <td>ANDROID</td>\n",
       "    </tr>\n",
       "    <tr>\n",
       "      <th>items</th>\n",
       "      <td>[]</td>\n",
       "    </tr>\n",
       "    <tr>\n",
       "      <th>device.category</th>\n",
       "      <td>mobile</td>\n",
       "    </tr>\n",
       "    <tr>\n",
       "      <th>device.mobile_brand_name</th>\n",
       "      <td>Google</td>\n",
       "    </tr>\n",
       "    <tr>\n",
       "      <th>device.mobile_model_name</th>\n",
       "      <td>Pixel</td>\n",
       "    </tr>\n",
       "    <tr>\n",
       "      <th>device.mobile_os_hardware_model</th>\n",
       "      <td>Pixel</td>\n",
       "    </tr>\n",
       "    <tr>\n",
       "      <th>device.operating_system</th>\n",
       "      <td>ANDROID</td>\n",
       "    </tr>\n",
       "    <tr>\n",
       "      <th>device.operating_system_version</th>\n",
       "      <td>10</td>\n",
       "    </tr>\n",
       "    <tr>\n",
       "      <th>device.language</th>\n",
       "      <td>en-us</td>\n",
       "    </tr>\n",
       "    <tr>\n",
       "      <th>device.is_limited_ad_tracking</th>\n",
       "      <td>No</td>\n",
       "    </tr>\n",
       "    <tr>\n",
       "      <th>device.time_zone_offset_seconds</th>\n",
       "      <td>-21600</td>\n",
       "    </tr>\n",
       "    <tr>\n",
       "      <th>geo.continent</th>\n",
       "      <td>Americas</td>\n",
       "    </tr>\n",
       "    <tr>\n",
       "      <th>geo.country</th>\n",
       "      <td>United States</td>\n",
       "    </tr>\n",
       "    <tr>\n",
       "      <th>geo.region</th>\n",
       "      <td>Texas</td>\n",
       "    </tr>\n",
       "    <tr>\n",
       "      <th>geo.city</th>\n",
       "      <td>Austin</td>\n",
       "    </tr>\n",
       "    <tr>\n",
       "      <th>geo.sub_continent</th>\n",
       "      <td>Northern America</td>\n",
       "    </tr>\n",
       "    <tr>\n",
       "      <th>geo.metro</th>\n",
       "      <td>(not set)</td>\n",
       "    </tr>\n",
       "    <tr>\n",
       "      <th>app_info.id</th>\n",
       "      <td>org.livingletter.hymnal</td>\n",
       "    </tr>\n",
       "    <tr>\n",
       "      <th>app_info.version</th>\n",
       "      <td>1.1.7</td>\n",
       "    </tr>\n",
       "    <tr>\n",
       "      <th>app_info.firebase_app_id</th>\n",
       "      <td>1:76837103840:android:e1d753a7fbfeeaac</td>\n",
       "    </tr>\n",
       "    <tr>\n",
       "      <th>app_info.install_source</th>\n",
       "      <td>com.android.vending</td>\n",
       "    </tr>\n",
       "    <tr>\n",
       "      <th>traffic_source.medium</th>\n",
       "      <td>organic</td>\n",
       "    </tr>\n",
       "    <tr>\n",
       "      <th>traffic_source.source</th>\n",
       "      <td>google-play</td>\n",
       "    </tr>\n",
       "    <tr>\n",
       "      <th>ecommerce.unique_items</th>\n",
       "      <td>NaN</td>\n",
       "    </tr>\n",
       "    <tr>\n",
       "      <th>device.mobile_marketing_name</th>\n",
       "      <td>NaN</td>\n",
       "    </tr>\n",
       "    <tr>\n",
       "      <th>traffic_source.name</th>\n",
       "      <td>NaN</td>\n",
       "    </tr>\n",
       "    <tr>\n",
       "      <th>device.vendor_id</th>\n",
       "      <td>NaN</td>\n",
       "    </tr>\n",
       "    <tr>\n",
       "      <th>ecommerce.transaction_id</th>\n",
       "      <td>NaN</td>\n",
       "    </tr>\n",
       "    <tr>\n",
       "      <th>index1</th>\n",
       "      <td>0</td>\n",
       "    </tr>\n",
       "  </tbody>\n",
       "</table>\n",
       "</div>"
      ],
      "text/plain": [
       "                                                                                 0\n",
       "event_date                                                                20201107\n",
       "event_timestamp                                                   1604801718108000\n",
       "event_name                                                           session_start\n",
       "event_params                     [{'key': 'firebase_event_origin', 'value': {'s...\n",
       "event_previous_timestamp                                          1604785674744000\n",
       "event_bundle_sequence_id                                                        13\n",
       "event_server_timestamp_offset                                               754702\n",
       "user_pseudo_id                                    cb052c8ce7b261aecf783ce043089fb3\n",
       "user_properties                  [{'key': 'ga_session_id', 'value': {'int_value...\n",
       "user_first_touch_timestamp                                        1562977643627000\n",
       "stream_id                                                               1440534155\n",
       "platform                                                                   ANDROID\n",
       "items                                                                           []\n",
       "device.category                                                             mobile\n",
       "device.mobile_brand_name                                                    Google\n",
       "device.mobile_model_name                                                     Pixel\n",
       "device.mobile_os_hardware_model                                              Pixel\n",
       "device.operating_system                                                    ANDROID\n",
       "device.operating_system_version                                                 10\n",
       "device.language                                                              en-us\n",
       "device.is_limited_ad_tracking                                                   No\n",
       "device.time_zone_offset_seconds                                             -21600\n",
       "geo.continent                                                             Americas\n",
       "geo.country                                                          United States\n",
       "geo.region                                                                   Texas\n",
       "geo.city                                                                    Austin\n",
       "geo.sub_continent                                                 Northern America\n",
       "geo.metro                                                                (not set)\n",
       "app_info.id                                                org.livingletter.hymnal\n",
       "app_info.version                                                             1.1.7\n",
       "app_info.firebase_app_id                    1:76837103840:android:e1d753a7fbfeeaac\n",
       "app_info.install_source                                        com.android.vending\n",
       "traffic_source.medium                                                      organic\n",
       "traffic_source.source                                                  google-play\n",
       "ecommerce.unique_items                                                         NaN\n",
       "device.mobile_marketing_name                                                   NaN\n",
       "traffic_source.name                                                            NaN\n",
       "device.vendor_id                                                               NaN\n",
       "ecommerce.transaction_id                                                       NaN\n",
       "index1                                                                           0"
      ]
     },
     "execution_count": 4,
     "metadata": {},
     "output_type": "execute_result"
    }
   ],
   "source": [
    "#Creating index column for merging reference later on\n",
    "df['index1'] = df.index\n",
    "df.head(1).T"
   ]
  },
  {
   "cell_type": "code",
   "execution_count": 5,
   "metadata": {},
   "outputs": [],
   "source": [
    "# Opening json file by reading each line as a new object\n",
    "with open('./data/hymnal_data_formatted.json', encoding=\"utf8\") as f:\n",
    "    data1 = f.readlines()\n",
    "    data1 = [json.loads(line) for line in data1]"
   ]
  },
  {
   "cell_type": "code",
   "execution_count": 6,
   "metadata": {},
   "outputs": [
    {
     "name": "stdout",
     "output_type": "stream",
     "text": [
      "['firebase_event_origin' 'ga_session_id' 'engaged_session_event'\n",
      " 'session_engaged' 'ga_session_number' 'firebase_screen_id'\n",
      " 'firebase_screen_class' 'engagement_time_msec' 'entrances' 'freeride'\n",
      " 'firebase_previous_id' 'firebase_previous_class' 'item_subcategory'\n",
      " 'recommended' 'item_category' 'item_name' 'item_number' 'item_id'\n",
      " 'debug_event' 'timestamp' 'previous_os_version' 'campaign_info_source'\n",
      " 'medium' 'source' 'system_app' 'system_app_update'\n",
      " 'update_with_analytics' 'firebase_conversion' 'previous_first_open_count'\n",
      " 'search_term' 'search_book' 'search_type' 'search_subcategory'\n",
      " 'search_category' 'previous_app_version']\n"
     ]
    },
    {
     "data": {
      "text/html": [
       "<div>\n",
       "<style scoped>\n",
       "    .dataframe tbody tr th:only-of-type {\n",
       "        vertical-align: middle;\n",
       "    }\n",
       "\n",
       "    .dataframe tbody tr th {\n",
       "        vertical-align: top;\n",
       "    }\n",
       "\n",
       "    .dataframe thead th {\n",
       "        text-align: right;\n",
       "    }\n",
       "</style>\n",
       "<table border=\"1\" class=\"dataframe\">\n",
       "  <thead>\n",
       "    <tr style=\"text-align: right;\">\n",
       "      <th></th>\n",
       "      <th>params_key</th>\n",
       "      <th>params_value.string_value</th>\n",
       "      <th>params_value.int_value</th>\n",
       "      <th>params_value.double_value</th>\n",
       "      <th>index1</th>\n",
       "    </tr>\n",
       "  </thead>\n",
       "  <tbody>\n",
       "    <tr>\n",
       "      <th>0</th>\n",
       "      <td>firebase_event_origin</td>\n",
       "      <td>auto</td>\n",
       "      <td>NaN</td>\n",
       "      <td>NaN</td>\n",
       "      <td>0</td>\n",
       "    </tr>\n",
       "    <tr>\n",
       "      <th>1</th>\n",
       "      <td>ga_session_id</td>\n",
       "      <td>NaN</td>\n",
       "      <td>1604801718</td>\n",
       "      <td>NaN</td>\n",
       "      <td>0</td>\n",
       "    </tr>\n",
       "    <tr>\n",
       "      <th>2</th>\n",
       "      <td>engaged_session_event</td>\n",
       "      <td>NaN</td>\n",
       "      <td>1</td>\n",
       "      <td>NaN</td>\n",
       "      <td>0</td>\n",
       "    </tr>\n",
       "    <tr>\n",
       "      <th>3</th>\n",
       "      <td>session_engaged</td>\n",
       "      <td>NaN</td>\n",
       "      <td>1</td>\n",
       "      <td>NaN</td>\n",
       "      <td>0</td>\n",
       "    </tr>\n",
       "    <tr>\n",
       "      <th>4</th>\n",
       "      <td>ga_session_number</td>\n",
       "      <td>NaN</td>\n",
       "      <td>8</td>\n",
       "      <td>NaN</td>\n",
       "      <td>0</td>\n",
       "    </tr>\n",
       "    <tr>\n",
       "      <th>...</th>\n",
       "      <td>...</td>\n",
       "      <td>...</td>\n",
       "      <td>...</td>\n",
       "      <td>...</td>\n",
       "      <td>...</td>\n",
       "    </tr>\n",
       "    <tr>\n",
       "      <th>86127</th>\n",
       "      <td>recommended</td>\n",
       "      <td>NaN</td>\n",
       "      <td>0</td>\n",
       "      <td>NaN</td>\n",
       "      <td>10938</td>\n",
       "    </tr>\n",
       "    <tr>\n",
       "      <th>86128</th>\n",
       "      <td>firebase_screen_class</td>\n",
       "      <td>MainActivity</td>\n",
       "      <td>NaN</td>\n",
       "      <td>NaN</td>\n",
       "      <td>10938</td>\n",
       "    </tr>\n",
       "    <tr>\n",
       "      <th>86129</th>\n",
       "      <td>item_subcategory</td>\n",
       "      <td>Life in Eternity</td>\n",
       "      <td>NaN</td>\n",
       "      <td>NaN</td>\n",
       "      <td>10938</td>\n",
       "    </tr>\n",
       "    <tr>\n",
       "      <th>86130</th>\n",
       "      <td>ga_session_number</td>\n",
       "      <td>NaN</td>\n",
       "      <td>121</td>\n",
       "      <td>NaN</td>\n",
       "      <td>10938</td>\n",
       "    </tr>\n",
       "    <tr>\n",
       "      <th>86131</th>\n",
       "      <td>item_number</td>\n",
       "      <td>NaN</td>\n",
       "      <td>984</td>\n",
       "      <td>NaN</td>\n",
       "      <td>10938</td>\n",
       "    </tr>\n",
       "  </tbody>\n",
       "</table>\n",
       "<p>86132 rows × 5 columns</p>\n",
       "</div>"
      ],
      "text/plain": [
       "                  params_key params_value.string_value params_value.int_value  \\\n",
       "0      firebase_event_origin                      auto                    NaN   \n",
       "1              ga_session_id                       NaN             1604801718   \n",
       "2      engaged_session_event                       NaN                      1   \n",
       "3            session_engaged                       NaN                      1   \n",
       "4          ga_session_number                       NaN                      8   \n",
       "...                      ...                       ...                    ...   \n",
       "86127            recommended                       NaN                      0   \n",
       "86128  firebase_screen_class              MainActivity                    NaN   \n",
       "86129       item_subcategory          Life in Eternity                    NaN   \n",
       "86130      ga_session_number                       NaN                    121   \n",
       "86131            item_number                       NaN                    984   \n",
       "\n",
       "       params_value.double_value index1  \n",
       "0                            NaN      0  \n",
       "1                            NaN      0  \n",
       "2                            NaN      0  \n",
       "3                            NaN      0  \n",
       "4                            NaN      0  \n",
       "...                          ...    ...  \n",
       "86127                        NaN  10938  \n",
       "86128                        NaN  10938  \n",
       "86129                        NaN  10938  \n",
       "86130                        NaN  10938  \n",
       "86131                        NaN  10938  \n",
       "\n",
       "[86132 rows x 5 columns]"
      ]
     },
     "execution_count": 6,
     "metadata": {},
     "output_type": "execute_result"
    }
   ],
   "source": [
    "df_event_params = pd.json_normalize(\n",
    "    data1, \n",
    "    record_path='event_params',\n",
    "    record_prefix='params_',\n",
    "    meta=['index1'],\n",
    "    max_level=1\n",
    "    )\n",
    "print(df_event_params.params_key.unique())\n",
    "df_event_params "
   ]
  },
  {
   "cell_type": "code",
   "execution_count": 7,
   "metadata": {},
   "outputs": [
    {
     "data": {
      "text/plain": [
       "firebase_event_origin        10939\n",
       "ga_session_number            10921\n",
       "ga_session_id                10921\n",
       "engaged_session_event        10645\n",
       "firebase_screen_id           10486\n",
       "firebase_screen_class        10486\n",
       "engagement_time_msec          4707\n",
       "firebase_previous_id          3629\n",
       "firebase_previous_class       3629\n",
       "recommended                    974\n",
       "item_id                        974\n",
       "item_number                    974\n",
       "item_name                      974\n",
       "item_category                  951\n",
       "item_subcategory               904\n",
       "search_book                    802\n",
       "search_type                    802\n",
       "search_term                    802\n",
       "entrances                      473\n",
       "session_engaged                452\n",
       "debug_event                    242\n",
       "freeride                       212\n",
       "search_category                 59\n",
       "search_subcategory              59\n",
       "previous_os_version             57\n",
       "timestamp                       11\n",
       "update_with_analytics           10\n",
       "firebase_conversion             10\n",
       "previous_first_open_count       10\n",
       "campaign_info_source             3\n",
       "system_app_update                3\n",
       "medium                           3\n",
       "source                           3\n",
       "system_app                       3\n",
       "previous_app_version             2\n",
       "Name: params_key, dtype: int64"
      ]
     },
     "execution_count": 7,
     "metadata": {},
     "output_type": "execute_result"
    }
   ],
   "source": [
    "df_event_params.params_key.value_counts()"
   ]
  },
  {
   "cell_type": "code",
   "execution_count": 8,
   "metadata": {},
   "outputs": [],
   "source": [
    "df_event_params = df_event_params.set_index(['index1', 'params_key'])"
   ]
  },
  {
   "cell_type": "markdown",
   "metadata": {},
   "source": [
    "### Creating for loops to clean event_params dataframe"
   ]
  },
  {
   "cell_type": "code",
   "execution_count": 9,
   "metadata": {},
   "outputs": [],
   "source": [
    "parameters = ['firebase_event_origin', 'ga_session_id', 'engaged_session_event',\n",
    "       'session_engaged', 'ga_session_number', 'firebase_screen_id',\n",
    "       'firebase_screen_class', 'engagement_time_msec', 'entrances',\n",
    "       'freeride', 'firebase_previous_id', 'firebase_previous_class',\n",
    "       'item_subcategory', 'recommended', 'item_category', 'item_name',\n",
    "       'item_number', 'item_id', 'debug_event', \n",
    "       'previous_os_version', 'campaign_info_source', 'medium', 'source',\n",
    "       'system_app', 'system_app_update', 'update_with_analytics',\n",
    "       'firebase_conversion', 'previous_first_open_count', 'search_term',\n",
    "       'search_book', 'search_type', 'search_subcategory', 'search_category',\n",
    "       'previous_app_version']\n",
    "df_dict = {}\n",
    "\n",
    "for i in parameters:\n",
    "    df_name = 'df_' + i \n",
    "    df_dict[df_name] = df_event_params.xs(i, level=1, drop_level=False).reset_index(level=[0,1], drop=False)\n",
    "    df_dict[df_name] = df_dict[df_name].dropna(axis=1)\n",
    "    df_dict[df_name] = df_dict[df_name].rename(columns={df_dict[df_name].columns[2]:df_dict[df_name].iloc[0,1]})\n",
    "    df_dict[df_name] = df_dict[df_name].drop(columns=df_dict[df_name].columns[1])"
   ]
  },
  {
   "cell_type": "code",
   "execution_count": 10,
   "metadata": {},
   "outputs": [
    {
     "name": "stdout",
     "output_type": "stream",
     "text": [
      "Shape of df_firebase_event_origin: (10939, 2)\n",
      "Shape of df_ga_session_id: (10921, 2)\n",
      "Shape of df_engaged_session_event: (10645, 2)\n",
      "Shape of df_session_engaged: (452, 2)\n",
      "Shape of df_ga_session_number: (10921, 2)\n",
      "Shape of df_firebase_screen_id: (10486, 2)\n",
      "Shape of df_firebase_screen_class: (10486, 2)\n",
      "Shape of df_engagement_time_msec: (4707, 2)\n",
      "Shape of df_entrances: (473, 2)\n",
      "Shape of df_freeride: (212, 2)\n",
      "Shape of df_firebase_previous_id: (3629, 2)\n",
      "Shape of df_firebase_previous_class: (3629, 2)\n",
      "Shape of df_item_subcategory: (904, 2)\n",
      "Shape of df_recommended: (974, 2)\n",
      "Shape of df_item_category: (951, 2)\n",
      "Shape of df_item_name: (974, 2)\n",
      "Shape of df_item_number: (974, 2)\n",
      "Shape of df_item_id: (974, 2)\n",
      "Shape of df_debug_event: (242, 2)\n",
      "Shape of df_previous_os_version: (57, 2)\n",
      "Shape of df_campaign_info_source: (3, 2)\n",
      "Shape of df_medium: (3, 2)\n",
      "Shape of df_source: (3, 2)\n",
      "Shape of df_system_app: (3, 2)\n",
      "Shape of df_system_app_update: (3, 2)\n",
      "Shape of df_update_with_analytics: (10, 2)\n",
      "Shape of df_firebase_conversion: (10, 2)\n",
      "Shape of df_previous_first_open_count: (10, 2)\n",
      "Shape of df_search_term: (802, 2)\n",
      "Shape of df_search_book: (802, 2)\n",
      "Shape of df_search_type: (802, 2)\n",
      "Shape of df_search_subcategory: (59, 2)\n",
      "Shape of df_search_category: (59, 2)\n",
      "Shape of df_previous_app_version: (2, 2)\n"
     ]
    }
   ],
   "source": [
    "# Checking the shape of newly created dataframe\n",
    "for i in parameters:\n",
    "    print('Shape of df_' + i + ':', df_dict['df_'+i].shape) "
   ]
  },
  {
   "cell_type": "code",
   "execution_count": 11,
   "metadata": {},
   "outputs": [
    {
     "data": {
      "text/html": [
       "<div>\n",
       "<style scoped>\n",
       "    .dataframe tbody tr th:only-of-type {\n",
       "        vertical-align: middle;\n",
       "    }\n",
       "\n",
       "    .dataframe tbody tr th {\n",
       "        vertical-align: top;\n",
       "    }\n",
       "\n",
       "    .dataframe thead th {\n",
       "        text-align: right;\n",
       "    }\n",
       "</style>\n",
       "<table border=\"1\" class=\"dataframe\">\n",
       "  <thead>\n",
       "    <tr style=\"text-align: right;\">\n",
       "      <th></th>\n",
       "      <th>index1</th>\n",
       "      <th>timestamp</th>\n",
       "      <th>timestamp_double</th>\n",
       "    </tr>\n",
       "  </thead>\n",
       "  <tbody>\n",
       "    <tr>\n",
       "      <th>0</th>\n",
       "      <td>315</td>\n",
       "      <td>1604771210</td>\n",
       "      <td>NaN</td>\n",
       "    </tr>\n",
       "    <tr>\n",
       "      <th>1</th>\n",
       "      <td>482</td>\n",
       "      <td>NaN</td>\n",
       "      <td>1.604788e+09</td>\n",
       "    </tr>\n",
       "    <tr>\n",
       "      <th>2</th>\n",
       "      <td>2542</td>\n",
       "      <td>1604757574</td>\n",
       "      <td>NaN</td>\n",
       "    </tr>\n",
       "    <tr>\n",
       "      <th>3</th>\n",
       "      <td>2576</td>\n",
       "      <td>1604760358</td>\n",
       "      <td>NaN</td>\n",
       "    </tr>\n",
       "    <tr>\n",
       "      <th>4</th>\n",
       "      <td>3465</td>\n",
       "      <td>NaN</td>\n",
       "      <td>1.604750e+09</td>\n",
       "    </tr>\n",
       "    <tr>\n",
       "      <th>5</th>\n",
       "      <td>4448</td>\n",
       "      <td>NaN</td>\n",
       "      <td>1.604737e+09</td>\n",
       "    </tr>\n",
       "    <tr>\n",
       "      <th>6</th>\n",
       "      <td>4449</td>\n",
       "      <td>NaN</td>\n",
       "      <td>1.604745e+09</td>\n",
       "    </tr>\n",
       "    <tr>\n",
       "      <th>7</th>\n",
       "      <td>6047</td>\n",
       "      <td>NaN</td>\n",
       "      <td>1.604802e+09</td>\n",
       "    </tr>\n",
       "    <tr>\n",
       "      <th>8</th>\n",
       "      <td>6048</td>\n",
       "      <td>NaN</td>\n",
       "      <td>1.604803e+09</td>\n",
       "    </tr>\n",
       "    <tr>\n",
       "      <th>9</th>\n",
       "      <td>8031</td>\n",
       "      <td>NaN</td>\n",
       "      <td>1.604801e+09</td>\n",
       "    </tr>\n",
       "    <tr>\n",
       "      <th>10</th>\n",
       "      <td>8032</td>\n",
       "      <td>NaN</td>\n",
       "      <td>1.604800e+09</td>\n",
       "    </tr>\n",
       "  </tbody>\n",
       "</table>\n",
       "</div>"
      ],
      "text/plain": [
       "    index1   timestamp  timestamp_double\n",
       "0      315  1604771210               NaN\n",
       "1      482         NaN      1.604788e+09\n",
       "2     2542  1604757574               NaN\n",
       "3     2576  1604760358               NaN\n",
       "4     3465         NaN      1.604750e+09\n",
       "5     4448         NaN      1.604737e+09\n",
       "6     4449         NaN      1.604745e+09\n",
       "7     6047         NaN      1.604802e+09\n",
       "8     6048         NaN      1.604803e+09\n",
       "9     8031         NaN      1.604801e+09\n",
       "10    8032         NaN      1.604800e+09"
      ]
     },
     "execution_count": 11,
     "metadata": {},
     "output_type": "execute_result"
    }
   ],
   "source": [
    " # Timestamp was singled out since it had NaN values in columns where values existed\n",
    "df_timestamp = df_event_params.xs('timestamp', level=1, drop_level=False)\\\n",
    "    .reset_index(level=[0,1], drop=False)\\\n",
    "    .drop(labels=['params_value.string_value','params_key'], axis=1)\\\n",
    "    .rename(columns={'params_value.int_value':'timestamp','params_value.double_value':'timestamp_double'})\n",
    "df_timestamp"
   ]
  },
  {
   "cell_type": "code",
   "execution_count": 12,
   "metadata": {},
   "outputs": [],
   "source": [
    "# Merging all sub-dataframes into one\n",
    "df_event_params_merged = df_dict['df_'+parameters[0]]\n",
    "for i in parameters:\n",
    "    df_event_params_merged = df_event_params_merged.merge(df_dict['df_'+i], on='index1', how='left')\n",
    "\n",
    "df_event_params_merged = df_event_params_merged.merge(df_timestamp, on='index1', how='left')"
   ]
  },
  {
   "cell_type": "code",
   "execution_count": 13,
   "metadata": {},
   "outputs": [
    {
     "name": "stdout",
     "output_type": "stream",
     "text": [
      "<class 'pandas.core.frame.DataFrame'>\n",
      "Int64Index: 10939 entries, 0 to 10938\n",
      "Data columns (total 38 columns):\n",
      " #   Column                     Non-Null Count  Dtype  \n",
      "---  ------                     --------------  -----  \n",
      " 0   index1                     10939 non-null  int64  \n",
      " 1   firebase_event_origin_x    10939 non-null  object \n",
      " 2   firebase_event_origin_y    10939 non-null  object \n",
      " 3   ga_session_id              10921 non-null  object \n",
      " 4   engaged_session_event      10645 non-null  object \n",
      " 5   session_engaged            452 non-null    object \n",
      " 6   ga_session_number          10921 non-null  object \n",
      " 7   firebase_screen_id         10486 non-null  object \n",
      " 8   firebase_screen_class      10486 non-null  object \n",
      " 9   engagement_time_msec       4707 non-null   object \n",
      " 10  entrances                  473 non-null    object \n",
      " 11  freeride                   212 non-null    object \n",
      " 12  firebase_previous_id       3629 non-null   object \n",
      " 13  firebase_previous_class    3629 non-null   object \n",
      " 14  item_subcategory           904 non-null    object \n",
      " 15  recommended                974 non-null    object \n",
      " 16  item_category              951 non-null    object \n",
      " 17  item_name                  974 non-null    object \n",
      " 18  item_number                974 non-null    object \n",
      " 19  item_id                    974 non-null    object \n",
      " 20  debug_event                242 non-null    object \n",
      " 21  previous_os_version        57 non-null     object \n",
      " 22  campaign_info_source       3 non-null      object \n",
      " 23  medium                     3 non-null      object \n",
      " 24  source                     3 non-null      object \n",
      " 25  system_app                 3 non-null      object \n",
      " 26  system_app_update          3 non-null      object \n",
      " 27  update_with_analytics      10 non-null     object \n",
      " 28  firebase_conversion        10 non-null     object \n",
      " 29  previous_first_open_count  10 non-null     object \n",
      " 30  search_term                802 non-null    object \n",
      " 31  search_book                802 non-null    object \n",
      " 32  search_type                802 non-null    object \n",
      " 33  search_subcategory         59 non-null     object \n",
      " 34  search_category            59 non-null     object \n",
      " 35  previous_app_version       2 non-null      object \n",
      " 36  timestamp                  3 non-null      object \n",
      " 37  timestamp_double           8 non-null      float64\n",
      "dtypes: float64(1), int64(1), object(36)\n",
      "memory usage: 3.3+ MB\n"
     ]
    }
   ],
   "source": [
    "df_event_params_merged.info()"
   ]
  },
  {
   "cell_type": "markdown",
   "metadata": {},
   "source": [
    "### Saving dataframe into csv files"
   ]
  },
  {
   "cell_type": "code",
   "execution_count": 14,
   "metadata": {},
   "outputs": [
    {
     "name": "stdout",
     "output_type": "stream",
     "text": [
      "Writing file.  \"../Project Hymnal/data\\event_params_merged.csv\"\n"
     ]
    }
   ],
   "source": [
    "# save the data to a new csv file\n",
    "datapath = '../Project Hymnal/data'\n",
    "save_file(df_event_params_merged, 'event_params_merged.csv', datapath)"
   ]
  },
  {
   "cell_type": "markdown",
   "metadata": {},
   "source": [
    "# Initial attempt at cleaning the dataframe"
   ]
  },
  {
   "cell_type": "markdown",
   "metadata": {},
   "source": [
    "### Inspecting a few index using 2 different methods"
   ]
  },
  {
   "cell_type": "code",
   "execution_count": 15,
   "metadata": {},
   "outputs": [
    {
     "data": {
      "text/html": [
       "<div>\n",
       "<style scoped>\n",
       "    .dataframe tbody tr th:only-of-type {\n",
       "        vertical-align: middle;\n",
       "    }\n",
       "\n",
       "    .dataframe tbody tr th {\n",
       "        vertical-align: top;\n",
       "    }\n",
       "\n",
       "    .dataframe thead th {\n",
       "        text-align: right;\n",
       "    }\n",
       "</style>\n",
       "<table border=\"1\" class=\"dataframe\">\n",
       "  <thead>\n",
       "    <tr style=\"text-align: right;\">\n",
       "      <th></th>\n",
       "      <th></th>\n",
       "      <th>params_value.string_value</th>\n",
       "      <th>params_value.int_value</th>\n",
       "      <th>params_value.double_value</th>\n",
       "    </tr>\n",
       "    <tr>\n",
       "      <th>index1</th>\n",
       "      <th>params_key</th>\n",
       "      <th></th>\n",
       "      <th></th>\n",
       "      <th></th>\n",
       "    </tr>\n",
       "  </thead>\n",
       "  <tbody>\n",
       "    <tr>\n",
       "      <th rowspan=\"9\" valign=\"top\">6</th>\n",
       "      <th>firebase_previous_class</th>\n",
       "      <td>ViewerActivity</td>\n",
       "      <td>NaN</td>\n",
       "      <td>NaN</td>\n",
       "    </tr>\n",
       "    <tr>\n",
       "      <th>firebase_previous_id</th>\n",
       "      <td>NaN</td>\n",
       "      <td>5886278566822990331</td>\n",
       "      <td>NaN</td>\n",
       "    </tr>\n",
       "    <tr>\n",
       "      <th>firebase_screen_class</th>\n",
       "      <td>ViewerActivity</td>\n",
       "      <td>NaN</td>\n",
       "      <td>NaN</td>\n",
       "    </tr>\n",
       "    <tr>\n",
       "      <th>engaged_session_event</th>\n",
       "      <td>NaN</td>\n",
       "      <td>1</td>\n",
       "      <td>NaN</td>\n",
       "    </tr>\n",
       "    <tr>\n",
       "      <th>engagement_time_msec</th>\n",
       "      <td>NaN</td>\n",
       "      <td>1713</td>\n",
       "      <td>NaN</td>\n",
       "    </tr>\n",
       "    <tr>\n",
       "      <th>firebase_event_origin</th>\n",
       "      <td>auto</td>\n",
       "      <td>NaN</td>\n",
       "      <td>NaN</td>\n",
       "    </tr>\n",
       "    <tr>\n",
       "      <th>firebase_screen_id</th>\n",
       "      <td>NaN</td>\n",
       "      <td>5886278566822990330</td>\n",
       "      <td>NaN</td>\n",
       "    </tr>\n",
       "    <tr>\n",
       "      <th>ga_session_number</th>\n",
       "      <td>NaN</td>\n",
       "      <td>7</td>\n",
       "      <td>NaN</td>\n",
       "    </tr>\n",
       "    <tr>\n",
       "      <th>ga_session_id</th>\n",
       "      <td>NaN</td>\n",
       "      <td>1604785674</td>\n",
       "      <td>NaN</td>\n",
       "    </tr>\n",
       "  </tbody>\n",
       "</table>\n",
       "</div>"
      ],
      "text/plain": [
       "                               params_value.string_value  \\\n",
       "index1 params_key                                          \n",
       "6      firebase_previous_class            ViewerActivity   \n",
       "       firebase_previous_id                          NaN   \n",
       "       firebase_screen_class              ViewerActivity   \n",
       "       engaged_session_event                         NaN   \n",
       "       engagement_time_msec                          NaN   \n",
       "       firebase_event_origin                        auto   \n",
       "       firebase_screen_id                            NaN   \n",
       "       ga_session_number                             NaN   \n",
       "       ga_session_id                                 NaN   \n",
       "\n",
       "                               params_value.int_value  \\\n",
       "index1 params_key                                       \n",
       "6      firebase_previous_class                    NaN   \n",
       "       firebase_previous_id       5886278566822990331   \n",
       "       firebase_screen_class                      NaN   \n",
       "       engaged_session_event                        1   \n",
       "       engagement_time_msec                      1713   \n",
       "       firebase_event_origin                      NaN   \n",
       "       firebase_screen_id         5886278566822990330   \n",
       "       ga_session_number                            7   \n",
       "       ga_session_id                       1604785674   \n",
       "\n",
       "                                params_value.double_value  \n",
       "index1 params_key                                          \n",
       "6      firebase_previous_class                        NaN  \n",
       "       firebase_previous_id                           NaN  \n",
       "       firebase_screen_class                          NaN  \n",
       "       engaged_session_event                          NaN  \n",
       "       engagement_time_msec                           NaN  \n",
       "       firebase_event_origin                          NaN  \n",
       "       firebase_screen_id                             NaN  \n",
       "       ga_session_number                              NaN  \n",
       "       ga_session_id                                  NaN  "
      ]
     },
     "execution_count": 15,
     "metadata": {},
     "output_type": "execute_result"
    }
   ],
   "source": [
    "df_event_params.iloc[df_event_params.index.get_level_values('index1') == 6]"
   ]
  },
  {
   "cell_type": "code",
   "execution_count": 16,
   "metadata": {
    "scrolled": true
   },
   "outputs": [
    {
     "data": {
      "text/html": [
       "<div>\n",
       "<style scoped>\n",
       "    .dataframe tbody tr th:only-of-type {\n",
       "        vertical-align: middle;\n",
       "    }\n",
       "\n",
       "    .dataframe tbody tr th {\n",
       "        vertical-align: top;\n",
       "    }\n",
       "\n",
       "    .dataframe thead th {\n",
       "        text-align: right;\n",
       "    }\n",
       "</style>\n",
       "<table border=\"1\" class=\"dataframe\">\n",
       "  <thead>\n",
       "    <tr style=\"text-align: right;\">\n",
       "      <th></th>\n",
       "      <th></th>\n",
       "      <th>params_value.string_value</th>\n",
       "      <th>params_value.int_value</th>\n",
       "      <th>params_value.double_value</th>\n",
       "    </tr>\n",
       "    <tr>\n",
       "      <th>index1</th>\n",
       "      <th>params_key</th>\n",
       "      <th></th>\n",
       "      <th></th>\n",
       "      <th></th>\n",
       "    </tr>\n",
       "  </thead>\n",
       "  <tbody>\n",
       "    <tr>\n",
       "      <th rowspan=\"5\" valign=\"top\">1</th>\n",
       "      <th>ga_session_number</th>\n",
       "      <td>NaN</td>\n",
       "      <td>7</td>\n",
       "      <td>NaN</td>\n",
       "    </tr>\n",
       "    <tr>\n",
       "      <th>firebase_event_origin</th>\n",
       "      <td>auto</td>\n",
       "      <td>NaN</td>\n",
       "      <td>NaN</td>\n",
       "    </tr>\n",
       "    <tr>\n",
       "      <th>session_engaged</th>\n",
       "      <td>NaN</td>\n",
       "      <td>1</td>\n",
       "      <td>NaN</td>\n",
       "    </tr>\n",
       "    <tr>\n",
       "      <th>engaged_session_event</th>\n",
       "      <td>NaN</td>\n",
       "      <td>1</td>\n",
       "      <td>NaN</td>\n",
       "    </tr>\n",
       "    <tr>\n",
       "      <th>ga_session_id</th>\n",
       "      <td>NaN</td>\n",
       "      <td>1604785674</td>\n",
       "      <td>NaN</td>\n",
       "    </tr>\n",
       "    <tr>\n",
       "      <th rowspan=\"8\" valign=\"top\">2</th>\n",
       "      <th>firebase_event_origin</th>\n",
       "      <td>auto</td>\n",
       "      <td>NaN</td>\n",
       "      <td>NaN</td>\n",
       "    </tr>\n",
       "    <tr>\n",
       "      <th>engaged_session_event</th>\n",
       "      <td>NaN</td>\n",
       "      <td>1</td>\n",
       "      <td>NaN</td>\n",
       "    </tr>\n",
       "    <tr>\n",
       "      <th>firebase_screen_id</th>\n",
       "      <td>NaN</td>\n",
       "      <td>5886278566822990329</td>\n",
       "      <td>NaN</td>\n",
       "    </tr>\n",
       "    <tr>\n",
       "      <th>firebase_screen_class</th>\n",
       "      <td>MainActivity</td>\n",
       "      <td>NaN</td>\n",
       "      <td>NaN</td>\n",
       "    </tr>\n",
       "    <tr>\n",
       "      <th>ga_session_id</th>\n",
       "      <td>NaN</td>\n",
       "      <td>1604785674</td>\n",
       "      <td>NaN</td>\n",
       "    </tr>\n",
       "    <tr>\n",
       "      <th>ga_session_number</th>\n",
       "      <td>NaN</td>\n",
       "      <td>7</td>\n",
       "      <td>NaN</td>\n",
       "    </tr>\n",
       "    <tr>\n",
       "      <th>engagement_time_msec</th>\n",
       "      <td>NaN</td>\n",
       "      <td>28592</td>\n",
       "      <td>NaN</td>\n",
       "    </tr>\n",
       "    <tr>\n",
       "      <th>entrances</th>\n",
       "      <td>NaN</td>\n",
       "      <td>1</td>\n",
       "      <td>NaN</td>\n",
       "    </tr>\n",
       "    <tr>\n",
       "      <th rowspan=\"8\" valign=\"top\">3</th>\n",
       "      <th>ga_session_number</th>\n",
       "      <td>NaN</td>\n",
       "      <td>7</td>\n",
       "      <td>NaN</td>\n",
       "    </tr>\n",
       "    <tr>\n",
       "      <th>firebase_screen_id</th>\n",
       "      <td>NaN</td>\n",
       "      <td>5886278566822990330</td>\n",
       "      <td>NaN</td>\n",
       "    </tr>\n",
       "    <tr>\n",
       "      <th>freeride</th>\n",
       "      <td>NaN</td>\n",
       "      <td>1</td>\n",
       "      <td>NaN</td>\n",
       "    </tr>\n",
       "    <tr>\n",
       "      <th>firebase_event_origin</th>\n",
       "      <td>auto</td>\n",
       "      <td>NaN</td>\n",
       "      <td>NaN</td>\n",
       "    </tr>\n",
       "    <tr>\n",
       "      <th>firebase_screen_class</th>\n",
       "      <td>ViewerActivity</td>\n",
       "      <td>NaN</td>\n",
       "      <td>NaN</td>\n",
       "    </tr>\n",
       "    <tr>\n",
       "      <th>ga_session_id</th>\n",
       "      <td>NaN</td>\n",
       "      <td>1604785674</td>\n",
       "      <td>NaN</td>\n",
       "    </tr>\n",
       "    <tr>\n",
       "      <th>engaged_session_event</th>\n",
       "      <td>NaN</td>\n",
       "      <td>1</td>\n",
       "      <td>NaN</td>\n",
       "    </tr>\n",
       "    <tr>\n",
       "      <th>engagement_time_msec</th>\n",
       "      <td>NaN</td>\n",
       "      <td>20888</td>\n",
       "      <td>NaN</td>\n",
       "    </tr>\n",
       "  </tbody>\n",
       "</table>\n",
       "</div>"
      ],
      "text/plain": [
       "                             params_value.string_value params_value.int_value  \\\n",
       "index1 params_key                                                               \n",
       "1      ga_session_number                           NaN                      7   \n",
       "       firebase_event_origin                      auto                    NaN   \n",
       "       session_engaged                             NaN                      1   \n",
       "       engaged_session_event                       NaN                      1   \n",
       "       ga_session_id                               NaN             1604785674   \n",
       "2      firebase_event_origin                      auto                    NaN   \n",
       "       engaged_session_event                       NaN                      1   \n",
       "       firebase_screen_id                          NaN    5886278566822990329   \n",
       "       firebase_screen_class              MainActivity                    NaN   \n",
       "       ga_session_id                               NaN             1604785674   \n",
       "       ga_session_number                           NaN                      7   \n",
       "       engagement_time_msec                        NaN                  28592   \n",
       "       entrances                                   NaN                      1   \n",
       "3      ga_session_number                           NaN                      7   \n",
       "       firebase_screen_id                          NaN    5886278566822990330   \n",
       "       freeride                                    NaN                      1   \n",
       "       firebase_event_origin                      auto                    NaN   \n",
       "       firebase_screen_class            ViewerActivity                    NaN   \n",
       "       ga_session_id                               NaN             1604785674   \n",
       "       engaged_session_event                       NaN                      1   \n",
       "       engagement_time_msec                        NaN                  20888   \n",
       "\n",
       "                              params_value.double_value  \n",
       "index1 params_key                                        \n",
       "1      ga_session_number                            NaN  \n",
       "       firebase_event_origin                        NaN  \n",
       "       session_engaged                              NaN  \n",
       "       engaged_session_event                        NaN  \n",
       "       ga_session_id                                NaN  \n",
       "2      firebase_event_origin                        NaN  \n",
       "       engaged_session_event                        NaN  \n",
       "       firebase_screen_id                           NaN  \n",
       "       firebase_screen_class                        NaN  \n",
       "       ga_session_id                                NaN  \n",
       "       ga_session_number                            NaN  \n",
       "       engagement_time_msec                         NaN  \n",
       "       entrances                                    NaN  \n",
       "3      ga_session_number                            NaN  \n",
       "       firebase_screen_id                           NaN  \n",
       "       freeride                                     NaN  \n",
       "       firebase_event_origin                        NaN  \n",
       "       firebase_screen_class                        NaN  \n",
       "       ga_session_id                                NaN  \n",
       "       engaged_session_event                        NaN  \n",
       "       engagement_time_msec                         NaN  "
      ]
     },
     "execution_count": 16,
     "metadata": {},
     "output_type": "execute_result"
    }
   ],
   "source": [
    "df_event_params.query('index1 >= 1 and index1 <= 3')"
   ]
  },
  {
   "cell_type": "markdown",
   "metadata": {},
   "source": [
    "### df_event_params dtypes conversion"
   ]
  },
  {
   "cell_type": "code",
   "execution_count": 17,
   "metadata": {},
   "outputs": [],
   "source": [
    "# Converting column 2 into float dtype\n",
    "df_event_params[['params_value.int_value']] = df_event_params[['params_value.int_value']].apply(pd.to_numeric)"
   ]
  },
  {
   "cell_type": "code",
   "execution_count": 18,
   "metadata": {},
   "outputs": [
    {
     "data": {
      "text/plain": [
       "<bound method DataFrame.info of                              params_value.string_value  \\\n",
       "index1 params_key                                        \n",
       "0      firebase_event_origin                      auto   \n",
       "       ga_session_id                               NaN   \n",
       "       engaged_session_event                       NaN   \n",
       "       session_engaged                             NaN   \n",
       "       ga_session_number                           NaN   \n",
       "...                                                ...   \n",
       "10938  recommended                                 NaN   \n",
       "       firebase_screen_class              MainActivity   \n",
       "       item_subcategory               Life in Eternity   \n",
       "       ga_session_number                           NaN   \n",
       "       item_number                                 NaN   \n",
       "\n",
       "                              params_value.int_value  \\\n",
       "index1 params_key                                      \n",
       "0      firebase_event_origin                     NaN   \n",
       "       ga_session_id                    1.604802e+09   \n",
       "       engaged_session_event            1.000000e+00   \n",
       "       session_engaged                  1.000000e+00   \n",
       "       ga_session_number                8.000000e+00   \n",
       "...                                              ...   \n",
       "10938  recommended                      0.000000e+00   \n",
       "       firebase_screen_class                     NaN   \n",
       "       item_subcategory                          NaN   \n",
       "       ga_session_number                1.210000e+02   \n",
       "       item_number                      9.840000e+02   \n",
       "\n",
       "                              params_value.double_value  \n",
       "index1 params_key                                        \n",
       "0      firebase_event_origin                        NaN  \n",
       "       ga_session_id                                NaN  \n",
       "       engaged_session_event                        NaN  \n",
       "       session_engaged                              NaN  \n",
       "       ga_session_number                            NaN  \n",
       "...                                                 ...  \n",
       "10938  recommended                                  NaN  \n",
       "       firebase_screen_class                        NaN  \n",
       "       item_subcategory                             NaN  \n",
       "       ga_session_number                            NaN  \n",
       "       item_number                                  NaN  \n",
       "\n",
       "[86132 rows x 3 columns]>"
      ]
     },
     "execution_count": 18,
     "metadata": {},
     "output_type": "execute_result"
    }
   ],
   "source": [
    "df_event_params.info"
   ]
  },
  {
   "cell_type": "markdown",
   "metadata": {},
   "source": [
    "for every row, notna() then save to new column"
   ]
  },
  {
   "cell_type": "code",
   "execution_count": 19,
   "metadata": {},
   "outputs": [],
   "source": [
    "#Function to display the full dataframe\n",
    "def print_full(x):\n",
    "    pd.set_option('display.max_rows', len(x))\n",
    "    print(x)\n",
    "    pd.reset_option('display.max_rows')"
   ]
  },
  {
   "cell_type": "markdown",
   "metadata": {},
   "source": [
    "### Inspecting item params_key values"
   ]
  },
  {
   "cell_type": "code",
   "execution_count": 20,
   "metadata": {},
   "outputs": [
    {
     "data": {
      "text/plain": [
       "1.0       23\n",
       "912.0     17\n",
       "2128.0    15\n",
       "984.0     13\n",
       "1918.0    10\n",
       "          ..\n",
       "910.0      1\n",
       "306.0      1\n",
       "1586.0     1\n",
       "1356.0     1\n",
       "475.0      1\n",
       "Name: params_value.int_value, Length: 472, dtype: int64"
      ]
     },
     "execution_count": 20,
     "metadata": {},
     "output_type": "execute_result"
    }
   ],
   "source": [
    "#df_event_params.xs('item_number', level=1, drop_level=False).info()\n",
    "df_event_params.xs('item_number', level=1, drop_level=False)['params_value.int_value'].value_counts()"
   ]
  },
  {
   "cell_type": "code",
   "execution_count": 21,
   "metadata": {},
   "outputs": [
    {
     "data": {
      "text/plain": [
       "-Kz10RN3pzqTPrY8Knk1    23\n",
       "-Kz13CMkpzqTPrY8Knk1    17\n",
       "-LbluzPaAs1Wu5WhoO-g    15\n",
       "-Kz13P3opzqTPrY8Knk1    13\n",
       "-L31eQKmUrAqj7a_EFX9    10\n",
       "                        ..\n",
       "-Kz1-KstpzqTPrY8Knk1     1\n",
       "-Kz13SuVpzqTPrY8Knk1     1\n",
       "-Kz10Zp4pzqTPrY8Knk1     1\n",
       "-Kz10lWgpzqTPrY8Knk1     1\n",
       "-Kz11dw7pzqTPrY8Knk1     1\n",
       "Name: params_value.string_value, Length: 494, dtype: int64"
      ]
     },
     "execution_count": 21,
     "metadata": {},
     "output_type": "execute_result"
    }
   ],
   "source": [
    "#df_event_params.xs('item_id', level=1, drop_level=False).info()\n",
    "df_event_params.xs('item_id', level=1, drop_level=False)['params_value.string_value'].value_counts()"
   ]
  },
  {
   "cell_type": "code",
   "execution_count": 22,
   "metadata": {},
   "outputs": [
    {
     "data": {
      "text/plain": [
       "Glory be to God the Father                           23\n",
       "Christ to minister is service                        17\n",
       "Lord, thank You for a new day                        14\n",
       "River of living water                                13\n",
       "O God, Thou art the source of life                   10\n",
       "                                                     ..\n",
       "I've given up the world because                       1\n",
       "O God of burning altar fire,                          1\n",
       "Oh how sweet it is just to know my Christ!            1\n",
       "How sweet is the story of Christ's boundless love     1\n",
       "Savior, I by faith am touching                        1\n",
       "Name: params_value.string_value, Length: 480, dtype: int64"
      ]
     },
     "execution_count": 22,
     "metadata": {},
     "output_type": "execute_result"
    }
   ],
   "source": [
    "#df_event_params.xs('item_name', level=1, drop_level=False).info()\n",
    "df_event_params.xs('item_name', level=1, drop_level=False)['params_value.string_value'].value_counts()"
   ]
  },
  {
   "cell_type": "code",
   "execution_count": 23,
   "metadata": {},
   "outputs": [
    {
     "data": {
      "text/plain": [
       "0.0    971\n",
       "1.0      3\n",
       "Name: params_value.int_value, dtype: int64"
      ]
     },
     "execution_count": 23,
     "metadata": {},
     "output_type": "execute_result"
    }
   ],
   "source": [
    "#df_event_params.xs('recommended', level=1, drop_level=False).info()\n",
    "df_event_params.xs('recommended', level=1, drop_level=False)['params_value.int_value'].value_counts()"
   ]
  },
  {
   "cell_type": "markdown",
   "metadata": {},
   "source": [
    "So far only 3 users have used the recommended section. This could be an important feature of the app that needs improvement."
   ]
  },
  {
   "cell_type": "code",
   "execution_count": 24,
   "metadata": {},
   "outputs": [
    {
     "data": {
      "text/plain": [
       "Praise of the Lord                   188\n",
       "Experience of Christ                 145\n",
       "Consecration                          82\n",
       "Worship of the Father                 76\n",
       "Longings                              62\n",
       "The Church                            51\n",
       "Gospel                                50\n",
       "Scriptures for Singing                47\n",
       "Assurance and Joy of Salvation        39\n",
       "Blessing of the Trinity               34\n",
       "Service                               30\n",
       "Hope of Glory                         22\n",
       "Fulness of the Spirit                 20\n",
       "Encouragement                         19\n",
       "Ultimate Manifestation                17\n",
       "Comfort in Trials                     16\n",
       "Experience of God                      9\n",
       "Union with Christ                      8\n",
       "Spiritual Warfare                      8\n",
       "Study of the Word                      7\n",
       "Prayer                                 7\n",
       "Preaching of the Gospel                4\n",
       "Various Aspects of the Inner Life      3\n",
       "The Kingdom                            3\n",
       "The Word of God                        2\n",
       "Meetings                               2\n",
       "Name: params_value.string_value, dtype: int64"
      ]
     },
     "execution_count": 24,
     "metadata": {},
     "output_type": "execute_result"
    }
   ],
   "source": [
    "#df_event_params.xs('item_category', level=1, drop_level=False).info()\n",
    "df_event_params.xs('item_category', level=1, drop_level=False)['params_value.string_value'].value_counts()"
   ]
  },
  {
   "cell_type": "code",
   "execution_count": 25,
   "metadata": {},
   "outputs": [
    {
     "data": {
      "text/plain": [
       "Loving Him                      45\n",
       "Remembrance of Him              43\n",
       "General                         32\n",
       "His Love                        31\n",
       "His Redemption                  25\n",
       "                                ..\n",
       "Functioning                      1\n",
       "Christ as Our Burnt Offering     1\n",
       "A Channel of Blessing            1\n",
       "His Preciousness                 1\n",
       "A Wonderful Savior               1\n",
       "Name: params_value.string_value, Length: 196, dtype: int64"
      ]
     },
     "execution_count": 25,
     "metadata": {},
     "output_type": "execute_result"
    }
   ],
   "source": [
    "#df_event_params.xs('item_subcategory', level=1, drop_level=False).info()\n",
    "df_event_params.xs('item_subcategory', level=1, drop_level=False)['params_value.string_value'].value_counts()"
   ]
  },
  {
   "cell_type": "markdown",
   "metadata": {},
   "source": [
    "### Reformating and merging all item params_key into a single dataframe"
   ]
  },
  {
   "cell_type": "code",
   "execution_count": 26,
   "metadata": {},
   "outputs": [
    {
     "data": {
      "text/html": [
       "<div>\n",
       "<style scoped>\n",
       "    .dataframe tbody tr th:only-of-type {\n",
       "        vertical-align: middle;\n",
       "    }\n",
       "\n",
       "    .dataframe tbody tr th {\n",
       "        vertical-align: top;\n",
       "    }\n",
       "\n",
       "    .dataframe thead th {\n",
       "        text-align: right;\n",
       "    }\n",
       "</style>\n",
       "<table border=\"1\" class=\"dataframe\">\n",
       "  <thead>\n",
       "    <tr style=\"text-align: right;\">\n",
       "      <th></th>\n",
       "      <th></th>\n",
       "      <th>params_value.string_value</th>\n",
       "      <th>params_value.int_value</th>\n",
       "      <th>params_value.double_value</th>\n",
       "    </tr>\n",
       "    <tr>\n",
       "      <th>index1</th>\n",
       "      <th>params_key</th>\n",
       "      <th></th>\n",
       "      <th></th>\n",
       "      <th></th>\n",
       "    </tr>\n",
       "  </thead>\n",
       "  <tbody>\n",
       "    <tr>\n",
       "      <th rowspan=\"5\" valign=\"top\">0</th>\n",
       "      <th>firebase_event_origin</th>\n",
       "      <td>auto</td>\n",
       "      <td>NaN</td>\n",
       "      <td>NaN</td>\n",
       "    </tr>\n",
       "    <tr>\n",
       "      <th>ga_session_id</th>\n",
       "      <td>NaN</td>\n",
       "      <td>1.604802e+09</td>\n",
       "      <td>NaN</td>\n",
       "    </tr>\n",
       "    <tr>\n",
       "      <th>engaged_session_event</th>\n",
       "      <td>NaN</td>\n",
       "      <td>1.000000e+00</td>\n",
       "      <td>NaN</td>\n",
       "    </tr>\n",
       "    <tr>\n",
       "      <th>session_engaged</th>\n",
       "      <td>NaN</td>\n",
       "      <td>1.000000e+00</td>\n",
       "      <td>NaN</td>\n",
       "    </tr>\n",
       "    <tr>\n",
       "      <th>ga_session_number</th>\n",
       "      <td>NaN</td>\n",
       "      <td>8.000000e+00</td>\n",
       "      <td>NaN</td>\n",
       "    </tr>\n",
       "    <tr>\n",
       "      <th rowspan=\"5\" valign=\"top\">1</th>\n",
       "      <th>ga_session_number</th>\n",
       "      <td>NaN</td>\n",
       "      <td>7.000000e+00</td>\n",
       "      <td>NaN</td>\n",
       "    </tr>\n",
       "    <tr>\n",
       "      <th>firebase_event_origin</th>\n",
       "      <td>auto</td>\n",
       "      <td>NaN</td>\n",
       "      <td>NaN</td>\n",
       "    </tr>\n",
       "    <tr>\n",
       "      <th>session_engaged</th>\n",
       "      <td>NaN</td>\n",
       "      <td>1.000000e+00</td>\n",
       "      <td>NaN</td>\n",
       "    </tr>\n",
       "    <tr>\n",
       "      <th>engaged_session_event</th>\n",
       "      <td>NaN</td>\n",
       "      <td>1.000000e+00</td>\n",
       "      <td>NaN</td>\n",
       "    </tr>\n",
       "    <tr>\n",
       "      <th>ga_session_id</th>\n",
       "      <td>NaN</td>\n",
       "      <td>1.604786e+09</td>\n",
       "      <td>NaN</td>\n",
       "    </tr>\n",
       "  </tbody>\n",
       "</table>\n",
       "</div>"
      ],
      "text/plain": [
       "                             params_value.string_value  \\\n",
       "index1 params_key                                        \n",
       "0      firebase_event_origin                      auto   \n",
       "       ga_session_id                               NaN   \n",
       "       engaged_session_event                       NaN   \n",
       "       session_engaged                             NaN   \n",
       "       ga_session_number                           NaN   \n",
       "1      ga_session_number                           NaN   \n",
       "       firebase_event_origin                      auto   \n",
       "       session_engaged                             NaN   \n",
       "       engaged_session_event                       NaN   \n",
       "       ga_session_id                               NaN   \n",
       "\n",
       "                              params_value.int_value  \\\n",
       "index1 params_key                                      \n",
       "0      firebase_event_origin                     NaN   \n",
       "       ga_session_id                    1.604802e+09   \n",
       "       engaged_session_event            1.000000e+00   \n",
       "       session_engaged                  1.000000e+00   \n",
       "       ga_session_number                8.000000e+00   \n",
       "1      ga_session_number                7.000000e+00   \n",
       "       firebase_event_origin                     NaN   \n",
       "       session_engaged                  1.000000e+00   \n",
       "       engaged_session_event            1.000000e+00   \n",
       "       ga_session_id                    1.604786e+09   \n",
       "\n",
       "                              params_value.double_value  \n",
       "index1 params_key                                        \n",
       "0      firebase_event_origin                        NaN  \n",
       "       ga_session_id                                NaN  \n",
       "       engaged_session_event                        NaN  \n",
       "       session_engaged                              NaN  \n",
       "       ga_session_number                            NaN  \n",
       "1      ga_session_number                            NaN  \n",
       "       firebase_event_origin                        NaN  \n",
       "       session_engaged                              NaN  \n",
       "       engaged_session_event                        NaN  \n",
       "       ga_session_id                                NaN  "
      ]
     },
     "execution_count": 26,
     "metadata": {},
     "output_type": "execute_result"
    }
   ],
   "source": [
    "df_event_params.head(10)"
   ]
  },
  {
   "cell_type": "code",
   "execution_count": 27,
   "metadata": {},
   "outputs": [],
   "source": [
    "# Cleaning and reformatting all item params_key\n",
    "df_item_number = df_event_params.xs('item_number', level=1, drop_level=False)\\\n",
    "    .reset_index(level=[0,1], drop=False)\\\n",
    "    .drop(labels=['params_value.string_value','params_value.double_value','params_key'], axis=1)\\\n",
    "    .rename(columns={'params_value.int_value':'item_number'})\n",
    "df_item_id = df_event_params.xs('item_id', level=1, drop_level=False)\\\n",
    "    .reset_index(level=[0,1], drop=False)\\\n",
    "    .drop(labels=['params_value.int_value','params_value.double_value','params_key'], axis=1)\\\n",
    "    .rename(columns={'params_value.string_value':'item_id'})\n",
    "df_recommended = df_event_params.xs('recommended', level=1, drop_level=False)\\\n",
    "    .reset_index(level=[0,1], drop=False)\\\n",
    "    .drop(labels=['params_value.string_value','params_value.double_value','params_key'], axis=1)\\\n",
    "    .rename(columns={'params_value.int_value':'recommended'})\n",
    "df_item_name = df_event_params.xs('item_name', level=1, drop_level=False)\\\n",
    "    .reset_index(level=[0,1], drop=False)\\\n",
    "    .drop(labels=['params_value.int_value','params_value.double_value','params_key'], axis=1)\\\n",
    "    .rename(columns={'params_value.string_value':'item_name'})\n",
    "df_item_category = df_event_params.xs('item_category', level=1, drop_level=False)\\\n",
    "    .reset_index(level=[0,1], drop=False)\\\n",
    "    .drop(labels=['params_value.int_value','params_value.double_value','params_key'], axis=1)\\\n",
    "    .rename(columns={'params_value.string_value':'item_category'})\n",
    "df_item_subcategory = df_event_params.xs('item_subcategory', level=1, drop_level=False)\\\n",
    "    .reset_index(level=[0,1], drop=False)\\\n",
    "    .drop(labels=['params_value.int_value','params_value.double_value','params_key'], axis=1)\\\n",
    "    .rename(columns={'params_value.string_value':'item_subcategory'})"
   ]
  },
  {
   "cell_type": "code",
   "execution_count": 28,
   "metadata": {},
   "outputs": [
    {
     "name": "stdout",
     "output_type": "stream",
     "text": [
      "Shape of df_item_number (974, 2)\n",
      "Shape of df_item_id (974, 2)\n",
      "Shape of df_recommended (974, 2)\n",
      "Shape of df_item_name (974, 2)\n",
      "Shape of df_item_category (951, 2)\n",
      "Shape of df_item_subcategory (904, 2)\n"
     ]
    }
   ],
   "source": [
    "# Checking uniformity of the dataframe\n",
    "print('Shape of df_item_number', df_item_number.shape)\n",
    "print('Shape of df_item_id', df_item_id.shape)\n",
    "print('Shape of df_recommended', df_recommended.shape)\n",
    "print('Shape of df_item_name', df_item_name.shape)\n",
    "print('Shape of df_item_category', df_item_category.shape)\n",
    "print('Shape of df_item_subcategory', df_item_subcategory.shape)"
   ]
  },
  {
   "cell_type": "code",
   "execution_count": 29,
   "metadata": {},
   "outputs": [
    {
     "name": "stdout",
     "output_type": "stream",
     "text": [
      "(974, 7)\n",
      "<class 'pandas.core.frame.DataFrame'>\n",
      "Int64Index: 974 entries, 0 to 973\n",
      "Data columns (total 7 columns):\n",
      " #   Column            Non-Null Count  Dtype  \n",
      "---  ------            --------------  -----  \n",
      " 0   index1            974 non-null    int64  \n",
      " 1   item_number       974 non-null    float64\n",
      " 2   item_id           974 non-null    object \n",
      " 3   recommended       974 non-null    float64\n",
      " 4   item_name         974 non-null    object \n",
      " 5   item_category     951 non-null    object \n",
      " 6   item_subcategory  904 non-null    object \n",
      "dtypes: float64(2), int64(1), object(4)\n",
      "memory usage: 60.9+ KB\n",
      "None\n"
     ]
    },
    {
     "data": {
      "text/html": [
       "<div>\n",
       "<style scoped>\n",
       "    .dataframe tbody tr th:only-of-type {\n",
       "        vertical-align: middle;\n",
       "    }\n",
       "\n",
       "    .dataframe tbody tr th {\n",
       "        vertical-align: top;\n",
       "    }\n",
       "\n",
       "    .dataframe thead th {\n",
       "        text-align: right;\n",
       "    }\n",
       "</style>\n",
       "<table border=\"1\" class=\"dataframe\">\n",
       "  <thead>\n",
       "    <tr style=\"text-align: right;\">\n",
       "      <th></th>\n",
       "      <th>index1</th>\n",
       "      <th>item_number</th>\n",
       "      <th>item_id</th>\n",
       "      <th>recommended</th>\n",
       "      <th>item_name</th>\n",
       "      <th>item_category</th>\n",
       "      <th>item_subcategory</th>\n",
       "    </tr>\n",
       "  </thead>\n",
       "  <tbody>\n",
       "    <tr>\n",
       "      <th>0</th>\n",
       "      <td>14</td>\n",
       "      <td>475.0</td>\n",
       "      <td>-Kz11vltpzqTPrY8Knk1</td>\n",
       "      <td>0.0</td>\n",
       "      <td>One with Thee, Thou Son eternal</td>\n",
       "      <td>Union with Christ</td>\n",
       "      <td>One with Him</td>\n",
       "    </tr>\n",
       "    <tr>\n",
       "      <th>1</th>\n",
       "      <td>37</td>\n",
       "      <td>643.0</td>\n",
       "      <td>-Kz12SGxpzqTPrY8Knk1</td>\n",
       "      <td>0.0</td>\n",
       "      <td>Take time to behold Him</td>\n",
       "      <td>Encouragement</td>\n",
       "      <td>For Fellowship with the Lord</td>\n",
       "    </tr>\n",
       "    <tr>\n",
       "      <th>2</th>\n",
       "      <td>38</td>\n",
       "      <td>643.0</td>\n",
       "      <td>-LCY45EBnrPPuNjAi5l_</td>\n",
       "      <td>0.0</td>\n",
       "      <td>Take time to behold Him,</td>\n",
       "      <td>Encouragement</td>\n",
       "      <td>For Fellowship with the Lord</td>\n",
       "    </tr>\n",
       "  </tbody>\n",
       "</table>\n",
       "</div>"
      ],
      "text/plain": [
       "   index1  item_number               item_id  recommended  \\\n",
       "0      14        475.0  -Kz11vltpzqTPrY8Knk1          0.0   \n",
       "1      37        643.0  -Kz12SGxpzqTPrY8Knk1          0.0   \n",
       "2      38        643.0  -LCY45EBnrPPuNjAi5l_          0.0   \n",
       "\n",
       "                         item_name      item_category  \\\n",
       "0  One with Thee, Thou Son eternal  Union with Christ   \n",
       "1          Take time to behold Him      Encouragement   \n",
       "2         Take time to behold Him,      Encouragement   \n",
       "\n",
       "               item_subcategory  \n",
       "0                  One with Him  \n",
       "1  For Fellowship with the Lord  \n",
       "2  For Fellowship with the Lord  "
      ]
     },
     "execution_count": 29,
     "metadata": {},
     "output_type": "execute_result"
    }
   ],
   "source": [
    "# Merging all item params_key into 1 dataframe\n",
    "df_item = df_item_number.merge(df_item_id, how='left')\\\n",
    "    .merge(df_recommended, how='left')\\\n",
    "    .merge(df_item_name, how='left')\\\n",
    "    .merge(df_item_category, how='left')\\\n",
    "    .merge(df_item_subcategory, how='left')\n",
    "print(df_item.shape)\n",
    "print(df_item.info())\n",
    "df_item.head(3)"
   ]
  },
  {
   "cell_type": "markdown",
   "metadata": {},
   "source": [
    "# Inspecting search params_key values"
   ]
  },
  {
   "cell_type": "code",
   "execution_count": 33,
   "metadata": {},
   "outputs": [
    {
     "data": {
      "text/plain": [
       "912                  14\n",
       "984                  11\n",
       "381                   9\n",
       "1251                  9\n",
       "203                   7\n",
       "                     ..\n",
       "lord thou art wo      1\n",
       "draw me dear lord     1\n",
       "i have fough          1\n",
       "i must press on       1\n",
       "now the lord          1\n",
       "Name: params_value.string_value, Length: 543, dtype: int64"
      ]
     },
     "execution_count": 33,
     "metadata": {},
     "output_type": "execute_result"
    }
   ],
   "source": [
    "# Taking a look at search_term parameter\n",
    "df_event_params.xs('search_term', level=1, drop_level=False)['params_value.string_value'].value_counts()"
   ]
  },
  {
   "cell_type": "markdown",
   "metadata": {},
   "source": [
    "There are 543 unique search terms.\n",
    "\n",
    "Here I can see a problem whereby the search_term consists of numerics and strings in the same column. "
   ]
  },
  {
   "cell_type": "code",
   "execution_count": 34,
   "metadata": {},
   "outputs": [
    {
     "data": {
      "text/plain": [
       "alphabetical    520\n",
       "numerical       282\n",
       "Name: params_value.string_value, dtype: int64"
      ]
     },
     "execution_count": 34,
     "metadata": {},
     "output_type": "execute_result"
    }
   ],
   "source": [
    "# Taking a look at search_type paramater\n",
    "df_event_params.xs('search_type', level=1, drop_level=False)['params_value.string_value'].value_counts()"
   ]
  },
  {
   "cell_type": "code",
   "execution_count": 35,
   "metadata": {},
   "outputs": [
    {
     "data": {
      "text/plain": [
       "All          764\n",
       "Hymnal        22\n",
       "New Songs      9\n",
       "History        4\n",
       "Updates        3\n",
       "Name: params_value.string_value, dtype: int64"
      ]
     },
     "execution_count": 35,
     "metadata": {},
     "output_type": "execute_result"
    }
   ],
   "source": [
    "# getting an idea of what values are in search_book parameter\n",
    "df_event_params.xs('search_book', level=1, drop_level=False)['params_value.string_value'].value_counts()"
   ]
  },
  {
   "cell_type": "markdown",
   "metadata": {},
   "source": [
    "### Reformating and merging all search params_key into a single dataframe"
   ]
  },
  {
   "cell_type": "code",
   "execution_count": 36,
   "metadata": {},
   "outputs": [],
   "source": [
    "# Cleaning and reformatting all search params_key\n",
    "df_search_term = df_event_params.xs('search_term', level=1, drop_level=False)\\\n",
    "    .reset_index(level=[0,1], drop=False)\\\n",
    "    .drop(labels=['params_value.int_value','params_value.double_value','params_key'], axis=1)\\\n",
    "    .rename(columns={'params_value.string_value':'search_term'})\n",
    "df_search_type = df_event_params.xs('search_type', level=1, drop_level=False)\\\n",
    "    .reset_index(level=[0,1], drop=False)\\\n",
    "    .drop(labels=['params_value.int_value','params_value.double_value','params_key'], axis=1)\\\n",
    "    .rename(columns={'params_value.string_value':'search_type'})\n",
    "df_search_book = df_event_params.xs('search_book', level=1, drop_level=False)\\\n",
    "    .reset_index(level=[0,1], drop=False)\\\n",
    "    .drop(labels=['params_value.int_value','params_value.double_value','params_key'], axis=1)\\\n",
    "    .rename(columns={'params_value.string_value':'search_book'})"
   ]
  },
  {
   "cell_type": "code",
   "execution_count": 37,
   "metadata": {},
   "outputs": [
    {
     "name": "stdout",
     "output_type": "stream",
     "text": [
      "Shape of df_search_term (802, 2)\n",
      "Shape of df_search_type (802, 2)\n",
      "Shape of df_search_book (802, 2)\n"
     ]
    }
   ],
   "source": [
    "# Checking uniformity of the dataframe\n",
    "print('Shape of df_search_term', df_search_term.shape)\n",
    "print('Shape of df_search_type', df_search_type.shape)\n",
    "print('Shape of df_search_book', df_search_book.shape)"
   ]
  },
  {
   "cell_type": "code",
   "execution_count": 38,
   "metadata": {},
   "outputs": [
    {
     "data": {
      "text/html": [
       "<div>\n",
       "<style scoped>\n",
       "    .dataframe tbody tr th:only-of-type {\n",
       "        vertical-align: middle;\n",
       "    }\n",
       "\n",
       "    .dataframe tbody tr th {\n",
       "        vertical-align: top;\n",
       "    }\n",
       "\n",
       "    .dataframe thead th {\n",
       "        text-align: right;\n",
       "    }\n",
       "</style>\n",
       "<table border=\"1\" class=\"dataframe\">\n",
       "  <thead>\n",
       "    <tr style=\"text-align: right;\">\n",
       "      <th></th>\n",
       "      <th>index1</th>\n",
       "      <th>search_term</th>\n",
       "      <th>search_type</th>\n",
       "      <th>search_book</th>\n",
       "    </tr>\n",
       "  </thead>\n",
       "  <tbody>\n",
       "    <tr>\n",
       "      <th>0</th>\n",
       "      <td>448</td>\n",
       "      <td>753</td>\n",
       "      <td>numerical</td>\n",
       "      <td>All</td>\n",
       "    </tr>\n",
       "    <tr>\n",
       "      <th>1</th>\n",
       "      <td>451</td>\n",
       "      <td>547</td>\n",
       "      <td>numerical</td>\n",
       "      <td>New Songs</td>\n",
       "    </tr>\n",
       "    <tr>\n",
       "      <th>2</th>\n",
       "      <td>455</td>\n",
       "      <td>547</td>\n",
       "      <td>numerical</td>\n",
       "      <td>All</td>\n",
       "    </tr>\n",
       "    <tr>\n",
       "      <th>3</th>\n",
       "      <td>457</td>\n",
       "      <td>547</td>\n",
       "      <td>numerical</td>\n",
       "      <td>New Songs</td>\n",
       "    </tr>\n",
       "    <tr>\n",
       "      <th>4</th>\n",
       "      <td>465</td>\n",
       "      <td>547</td>\n",
       "      <td>numerical</td>\n",
       "      <td>All</td>\n",
       "    </tr>\n",
       "    <tr>\n",
       "      <th>...</th>\n",
       "      <td>...</td>\n",
       "      <td>...</td>\n",
       "      <td>...</td>\n",
       "      <td>...</td>\n",
       "    </tr>\n",
       "    <tr>\n",
       "      <th>797</th>\n",
       "      <td>10623</td>\n",
       "      <td>132</td>\n",
       "      <td>numerical</td>\n",
       "      <td>All</td>\n",
       "    </tr>\n",
       "    <tr>\n",
       "      <th>798</th>\n",
       "      <td>10658</td>\n",
       "      <td>52</td>\n",
       "      <td>numerical</td>\n",
       "      <td>All</td>\n",
       "    </tr>\n",
       "    <tr>\n",
       "      <th>799</th>\n",
       "      <td>10721</td>\n",
       "      <td>thank you for</td>\n",
       "      <td>alphabetical</td>\n",
       "      <td>All</td>\n",
       "    </tr>\n",
       "    <tr>\n",
       "      <th>800</th>\n",
       "      <td>10751</td>\n",
       "      <td>before the throne of</td>\n",
       "      <td>alphabetical</td>\n",
       "      <td>All</td>\n",
       "    </tr>\n",
       "    <tr>\n",
       "      <th>801</th>\n",
       "      <td>10755</td>\n",
       "      <td>what relea</td>\n",
       "      <td>alphabetical</td>\n",
       "      <td>All</td>\n",
       "    </tr>\n",
       "  </tbody>\n",
       "</table>\n",
       "<p>802 rows × 4 columns</p>\n",
       "</div>"
      ],
      "text/plain": [
       "     index1            search_term   search_type search_book\n",
       "0       448                    753     numerical         All\n",
       "1       451                    547     numerical   New Songs\n",
       "2       455                    547     numerical         All\n",
       "3       457                    547     numerical   New Songs\n",
       "4       465                    547     numerical         All\n",
       "..      ...                    ...           ...         ...\n",
       "797   10623                    132     numerical         All\n",
       "798   10658                     52     numerical         All\n",
       "799   10721         thank you for   alphabetical         All\n",
       "800   10751  before the throne of   alphabetical         All\n",
       "801   10755             what relea  alphabetical         All\n",
       "\n",
       "[802 rows x 4 columns]"
      ]
     },
     "execution_count": 38,
     "metadata": {},
     "output_type": "execute_result"
    }
   ],
   "source": [
    "# Merging all search params_key into 1 dataframe\n",
    "df_search = df_search_term.merge(df_search_type, how='left').merge(df_search_book, how='left')\n",
    "df_search"
   ]
  },
  {
   "cell_type": "code",
   "execution_count": 39,
   "metadata": {},
   "outputs": [
    {
     "name": "stdout",
     "output_type": "stream",
     "text": [
      "<class 'pandas.core.frame.DataFrame'>\n",
      "Int64Index: 802 entries, 0 to 801\n",
      "Data columns (total 4 columns):\n",
      " #   Column       Non-Null Count  Dtype \n",
      "---  ------       --------------  ----- \n",
      " 0   index1       802 non-null    int64 \n",
      " 1   search_term  802 non-null    object\n",
      " 2   search_type  802 non-null    object\n",
      " 3   search_book  802 non-null    object\n",
      "dtypes: int64(1), object(3)\n",
      "memory usage: 31.3+ KB\n"
     ]
    }
   ],
   "source": [
    "# Taking a look at column dtypes and null values\n",
    "df_search.info()"
   ]
  },
  {
   "cell_type": "code",
   "execution_count": 40,
   "metadata": {},
   "outputs": [
    {
     "name": "stdout",
     "output_type": "stream",
     "text": [
      "912                  14\n",
      "984                  11\n",
      "381                   9\n",
      "1251                  9\n",
      "203                   7\n",
      "                     ..\n",
      "lord thou art wo      1\n",
      "draw me dear lord     1\n",
      "i have fough          1\n",
      "i must press on       1\n",
      "now the lord          1\n",
      "Name: search_term, Length: 543, dtype: int64\n"
     ]
    },
    {
     "data": {
      "text/plain": [
       "912     0.017456\n",
       "984     0.013716\n",
       "381     0.011222\n",
       "1251    0.011222\n",
       "203     0.008728\n",
       "Name: search_term, dtype: float64"
      ]
     },
     "execution_count": 40,
     "metadata": {},
     "output_type": "execute_result"
    }
   ],
   "source": [
    "# Taking a look at the unique search_terms and distribution\n",
    "print(df_search.search_term.value_counts())\n",
    "df_search.search_term.value_counts(normalize=True).head()"
   ]
  },
  {
   "cell_type": "markdown",
   "metadata": {},
   "source": [
    "# Taking a look into the search_(sub)category "
   ]
  },
  {
   "cell_type": "code",
   "execution_count": 42,
   "metadata": {
    "scrolled": true
   },
   "outputs": [
    {
     "data": {
      "text/plain": [
       "All    59\n",
       "Name: params_value.string_value, dtype: int64"
      ]
     },
     "execution_count": 42,
     "metadata": {},
     "output_type": "execute_result"
    }
   ],
   "source": [
    "df_event_params.xs('search_subcategory', level=1, drop_level=False)['params_value.string_value'].value_counts()"
   ]
  },
  {
   "cell_type": "code",
   "execution_count": 43,
   "metadata": {
    "scrolled": true
   },
   "outputs": [
    {
     "data": {
      "text/plain": [
       "All              58\n",
       "Encouragement     1\n",
       "Name: params_value.string_value, dtype: int64"
      ]
     },
     "execution_count": 43,
     "metadata": {},
     "output_type": "execute_result"
    }
   ],
   "source": [
    "df_event_params.xs('search_category', level=1, drop_level=False)['params_value.string_value'].value_counts()"
   ]
  },
  {
   "cell_type": "markdown",
   "metadata": {},
   "source": [
    "Looking at the unique values for these 2 parameters suggests that most users uses the all category when searching. This suggests that searching through the all category is the most picked and convenient method. Hence, there would not be a need to add a subcategory search function."
   ]
  },
  {
   "cell_type": "markdown",
   "metadata": {},
   "source": [
    "# Firebase"
   ]
  },
  {
   "cell_type": "markdown",
   "metadata": {},
   "source": [
    "### firebase_event_origin"
   ]
  },
  {
   "cell_type": "code",
   "execution_count": 44,
   "metadata": {},
   "outputs": [
    {
     "name": "stdout",
     "output_type": "stream",
     "text": [
      "<class 'pandas.core.frame.DataFrame'>\n",
      "MultiIndex: 10939 entries, (0, 'firebase_event_origin') to (10938, 'firebase_event_origin')\n",
      "Data columns (total 3 columns):\n",
      " #   Column                     Non-Null Count  Dtype  \n",
      "---  ------                     --------------  -----  \n",
      " 0   params_value.string_value  10939 non-null  object \n",
      " 1   params_value.int_value     0 non-null      float64\n",
      " 2   params_value.double_value  0 non-null      float64\n",
      "dtypes: float64(2), object(1)\n",
      "memory usage: 695.5+ KB\n"
     ]
    },
    {
     "data": {
      "text/plain": [
       "auto    9163\n",
       "app     1776\n",
       "Name: params_value.string_value, dtype: int64"
      ]
     },
     "execution_count": 44,
     "metadata": {},
     "output_type": "execute_result"
    }
   ],
   "source": [
    "df_event_params.xs('firebase_event_origin', level=1, drop_level=False).info()\n",
    "df_event_params.xs('firebase_event_origin', level=1, drop_level=False)['params_value.string_value'].value_counts()"
   ]
  },
  {
   "cell_type": "markdown",
   "metadata": {},
   "source": [
    "### ga_session_number"
   ]
  },
  {
   "cell_type": "code",
   "execution_count": 45,
   "metadata": {
    "scrolled": false
   },
   "outputs": [
    {
     "name": "stdout",
     "output_type": "stream",
     "text": [
      "<class 'pandas.core.frame.DataFrame'>\n",
      "MultiIndex: 10921 entries, (0, 'ga_session_number') to (10938, 'ga_session_number')\n",
      "Data columns (total 3 columns):\n",
      " #   Column                     Non-Null Count  Dtype  \n",
      "---  ------                     --------------  -----  \n",
      " 0   params_value.string_value  0 non-null      object \n",
      " 1   params_value.int_value     10921 non-null  float64\n",
      " 2   params_value.double_value  0 non-null      float64\n",
      "dtypes: float64(2), object(1)\n",
      "memory usage: 695.1+ KB\n"
     ]
    },
    {
     "data": {
      "text/plain": [
       "138.0    398\n",
       "143.0    342\n",
       "11.0     309\n",
       "127.0    227\n",
       "1.0      208\n",
       "        ... \n",
       "54.0       2\n",
       "142.0      2\n",
       "393.0      2\n",
       "415.0      2\n",
       "130.0      1\n",
       "Name: params_value.int_value, Length: 340, dtype: int64"
      ]
     },
     "execution_count": 45,
     "metadata": {},
     "output_type": "execute_result"
    }
   ],
   "source": [
    "df_event_params.xs('ga_session_number', level=1, drop_level=False).info()\n",
    "df_event_params.xs('ga_session_number', level=1, drop_level=False)['params_value.int_value'].value_counts()"
   ]
  },
  {
   "cell_type": "markdown",
   "metadata": {},
   "source": [
    "### ga_session_id"
   ]
  },
  {
   "cell_type": "code",
   "execution_count": 46,
   "metadata": {},
   "outputs": [
    {
     "name": "stdout",
     "output_type": "stream",
     "text": [
      "<class 'pandas.core.frame.DataFrame'>\n",
      "MultiIndex: 10921 entries, (0, 'ga_session_id') to (10938, 'ga_session_id')\n",
      "Data columns (total 3 columns):\n",
      " #   Column                     Non-Null Count  Dtype  \n",
      "---  ------                     --------------  -----  \n",
      " 0   params_value.string_value  0 non-null      object \n",
      " 1   params_value.int_value     10921 non-null  float64\n",
      " 2   params_value.double_value  0 non-null      float64\n",
      "dtypes: float64(2), object(1)\n",
      "memory usage: 695.1+ KB\n"
     ]
    },
    {
     "data": {
      "text/plain": [
       "1.604747e+09    386\n",
       "1.604747e+09    342\n",
       "1.604774e+09    242\n",
       "1.604794e+09    227\n",
       "1.604791e+09    195\n",
       "               ... \n",
       "1.604768e+09      1\n",
       "1.604737e+09      1\n",
       "1.604807e+09      1\n",
       "1.596983e+09      1\n",
       "1.604748e+09      1\n",
       "Name: params_value.int_value, Length: 519, dtype: int64"
      ]
     },
     "execution_count": 46,
     "metadata": {},
     "output_type": "execute_result"
    }
   ],
   "source": [
    "df_event_params.xs('ga_session_id', level=1, drop_level=False).info()\n",
    "df_event_params.xs('ga_session_id', level=1, drop_level=False)['params_value.int_value'].value_counts()"
   ]
  },
  {
   "cell_type": "markdown",
   "metadata": {},
   "source": [
    "### engaged_session_event"
   ]
  },
  {
   "cell_type": "code",
   "execution_count": 47,
   "metadata": {},
   "outputs": [
    {
     "name": "stdout",
     "output_type": "stream",
     "text": [
      "<class 'pandas.core.frame.DataFrame'>\n",
      "MultiIndex: 10645 entries, (0, 'engaged_session_event') to (10938, 'engaged_session_event')\n",
      "Data columns (total 3 columns):\n",
      " #   Column                     Non-Null Count  Dtype  \n",
      "---  ------                     --------------  -----  \n",
      " 0   params_value.string_value  0 non-null      object \n",
      " 1   params_value.int_value     10645 non-null  float64\n",
      " 2   params_value.double_value  0 non-null      float64\n",
      "dtypes: float64(2), object(1)\n",
      "memory usage: 687.8+ KB\n"
     ]
    },
    {
     "data": {
      "text/plain": [
       "1.0    10645\n",
       "Name: params_value.int_value, dtype: int64"
      ]
     },
     "execution_count": 47,
     "metadata": {},
     "output_type": "execute_result"
    }
   ],
   "source": [
    "df_event_params.xs('engaged_session_event', level=1, drop_level=False).info()\n",
    "df_event_params.xs('engaged_session_event', level=1, drop_level=False)['params_value.int_value'].value_counts()"
   ]
  },
  {
   "cell_type": "markdown",
   "metadata": {},
   "source": [
    "### firebase_screen_id"
   ]
  },
  {
   "cell_type": "code",
   "execution_count": 48,
   "metadata": {},
   "outputs": [
    {
     "name": "stdout",
     "output_type": "stream",
     "text": [
      "<class 'pandas.core.frame.DataFrame'>\n",
      "MultiIndex: 10486 entries, (2, 'firebase_screen_id') to (10938, 'firebase_screen_id')\n",
      "Data columns (total 3 columns):\n",
      " #   Column                     Non-Null Count  Dtype  \n",
      "---  ------                     --------------  -----  \n",
      " 0   params_value.string_value  0 non-null      object \n",
      " 1   params_value.int_value     10486 non-null  float64\n",
      " 2   params_value.double_value  0 non-null      float64\n",
      "dtypes: float64(2), object(1)\n",
      "memory usage: 683.6+ KB\n"
     ]
    },
    {
     "data": {
      "text/plain": [
       " 6.644756e+18    385\n",
       " 8.490211e+18    344\n",
       " 6.576743e+18    194\n",
       " 6.287030e+17    180\n",
       "-2.164390e+18    134\n",
       "                ... \n",
       "-6.159770e+18      1\n",
       "-8.695321e+18      1\n",
       "-4.885996e+18      1\n",
       " 5.353056e+18      1\n",
       " 4.877089e+18      1\n",
       "Name: params_value.int_value, Length: 483, dtype: int64"
      ]
     },
     "execution_count": 48,
     "metadata": {},
     "output_type": "execute_result"
    }
   ],
   "source": [
    "df_event_params.xs('firebase_screen_id', level=1, drop_level=False).info()\n",
    "df_event_params.xs('firebase_screen_id', level=1, drop_level=False)['params_value.int_value'].value_counts()"
   ]
  },
  {
   "cell_type": "markdown",
   "metadata": {},
   "source": [
    "### firebase_screen_class"
   ]
  },
  {
   "cell_type": "code",
   "execution_count": 49,
   "metadata": {},
   "outputs": [
    {
     "name": "stdout",
     "output_type": "stream",
     "text": [
      "<class 'pandas.core.frame.DataFrame'>\n",
      "MultiIndex: 10486 entries, (2, 'firebase_screen_class') to (10938, 'firebase_screen_class')\n",
      "Data columns (total 3 columns):\n",
      " #   Column                     Non-Null Count  Dtype  \n",
      "---  ------                     --------------  -----  \n",
      " 0   params_value.string_value  10486 non-null  object \n",
      " 1   params_value.int_value     0 non-null      float64\n",
      " 2   params_value.double_value  0 non-null      float64\n",
      "dtypes: float64(2), object(1)\n",
      "memory usage: 683.6+ KB\n"
     ]
    },
    {
     "data": {
      "text/plain": [
       "HymnListViewController             3939\n",
       "HymnViewController                 3886\n",
       "UIAlertController                   570\n",
       "StyledPreviewController             517\n",
       "CenterViewController                479\n",
       "MainActivity                        407\n",
       "ViewerActivity                      328\n",
       "MDCBottomSheetController            214\n",
       "UpdateViewController                 29\n",
       "UIActivityContentViewController      29\n",
       "SongbookAlertController              26\n",
       "SLComposeViewController              17\n",
       "SubmissionsViewController             8\n",
       "OrganizeViewController                7\n",
       "UIActivityViewController              7\n",
       "ContainerViewController               7\n",
       "ReviewViewController                  6\n",
       "MeetViewController                    4\n",
       "SFAirDropViewController               2\n",
       "ComposeViewController                 2\n",
       "SongbookViewController                2\n",
       "Name: params_value.string_value, dtype: int64"
      ]
     },
     "execution_count": 49,
     "metadata": {},
     "output_type": "execute_result"
    }
   ],
   "source": [
    "df_event_params.xs('firebase_screen_class', level=1, drop_level=False).info()\n",
    "df_event_params.xs('firebase_screen_class', level=1, drop_level=False)['params_value.string_value'].value_counts()"
   ]
  },
  {
   "cell_type": "markdown",
   "metadata": {},
   "source": [
    "### engagement_time_msec"
   ]
  },
  {
   "cell_type": "code",
   "execution_count": 50,
   "metadata": {},
   "outputs": [
    {
     "name": "stdout",
     "output_type": "stream",
     "text": [
      "<class 'pandas.core.frame.DataFrame'>\n",
      "MultiIndex: 4707 entries, (2, 'engagement_time_msec') to (10937, 'engagement_time_msec')\n",
      "Data columns (total 3 columns):\n",
      " #   Column                     Non-Null Count  Dtype  \n",
      "---  ------                     --------------  -----  \n",
      " 0   params_value.string_value  0 non-null      object \n",
      " 1   params_value.int_value     4707 non-null   float64\n",
      " 2   params_value.double_value  0 non-null      float64\n",
      "dtypes: float64(2), object(1)\n",
      "memory usage: 531.2+ KB\n"
     ]
    },
    {
     "data": {
      "text/plain": [
       "1.0        56\n",
       "2.0        18\n",
       "3.0        16\n",
       "0.0        13\n",
       "1659.0      6\n",
       "           ..\n",
       "11301.0     1\n",
       "2157.0      1\n",
       "3503.0      1\n",
       "7442.0      1\n",
       "1219.0      1\n",
       "Name: params_value.int_value, Length: 3905, dtype: int64"
      ]
     },
     "execution_count": 50,
     "metadata": {},
     "output_type": "execute_result"
    }
   ],
   "source": [
    "df_event_params.xs('engagement_time_msec', level=1, drop_level=False).info()\n",
    "df_event_params.xs('engagement_time_msec', level=1, drop_level=False)['params_value.int_value'].value_counts()"
   ]
  },
  {
   "cell_type": "markdown",
   "metadata": {},
   "source": [
    "### firebase_previous_id"
   ]
  },
  {
   "cell_type": "code",
   "execution_count": 51,
   "metadata": {},
   "outputs": [
    {
     "name": "stdout",
     "output_type": "stream",
     "text": [
      "<class 'pandas.core.frame.DataFrame'>\n",
      "MultiIndex: 3629 entries, (4, 'firebase_previous_id') to (10932, 'firebase_previous_id')\n",
      "Data columns (total 3 columns):\n",
      " #   Column                     Non-Null Count  Dtype  \n",
      "---  ------                     --------------  -----  \n",
      " 0   params_value.string_value  0 non-null      object \n",
      " 1   params_value.int_value     3629 non-null   float64\n",
      " 2   params_value.double_value  0 non-null      float64\n",
      "dtypes: float64(2), object(1)\n",
      "memory usage: 502.8+ KB\n"
     ]
    },
    {
     "data": {
      "text/plain": [
       " 8.490211e+18    186\n",
       " 6.644756e+18    160\n",
       " 6.576743e+18    114\n",
       " 6.287030e+17     72\n",
       " 4.539133e+17     50\n",
       "                ... \n",
       " 2.758248e+18      1\n",
       " 4.113373e+18      1\n",
       "-4.985425e+18      1\n",
       "-2.097768e+18      1\n",
       "-6.381400e+18      1\n",
       "Name: params_value.int_value, Length: 449, dtype: int64"
      ]
     },
     "execution_count": 51,
     "metadata": {},
     "output_type": "execute_result"
    }
   ],
   "source": [
    "df_event_params.xs('firebase_previous_id', level=1, drop_level=False).info()\n",
    "df_event_params.xs('firebase_previous_id', level=1, drop_level=False)['params_value.int_value'].value_counts()"
   ]
  },
  {
   "cell_type": "markdown",
   "metadata": {},
   "source": [
    "### firebase_previous_class"
   ]
  },
  {
   "cell_type": "code",
   "execution_count": 52,
   "metadata": {},
   "outputs": [
    {
     "name": "stdout",
     "output_type": "stream",
     "text": [
      "<class 'pandas.core.frame.DataFrame'>\n",
      "MultiIndex: 3629 entries, (4, 'firebase_previous_class') to (10932, 'firebase_previous_class')\n",
      "Data columns (total 3 columns):\n",
      " #   Column                     Non-Null Count  Dtype  \n",
      "---  ------                     --------------  -----  \n",
      " 0   params_value.string_value  3629 non-null   object \n",
      " 1   params_value.int_value     0 non-null      float64\n",
      " 2   params_value.double_value  0 non-null      float64\n",
      "dtypes: float64(2), object(1)\n",
      "memory usage: 502.8+ KB\n"
     ]
    },
    {
     "data": {
      "text/plain": [
       "HymnViewController                 1318\n",
       "HymnListViewController              963\n",
       "CenterViewController                458\n",
       "UIAlertController                   325\n",
       "StyledPreviewController             166\n",
       "MainActivity                        115\n",
       "MDCBottomSheetController            104\n",
       "ViewerActivity                      101\n",
       "UIActivityContentViewController      17\n",
       "SongbookAlertController              14\n",
       "UpdateViewController                 11\n",
       "SLComposeViewController               8\n",
       "UIActivityViewController              7\n",
       "ContainerViewController               6\n",
       "OrganizeViewController                4\n",
       "SubmissionsViewController             4\n",
       "ReviewViewController                  3\n",
       "MeetViewController                    2\n",
       "SFAirDropViewController               1\n",
       "ComposeViewController                 1\n",
       "SongbookViewController                1\n",
       "Name: params_value.string_value, dtype: int64"
      ]
     },
     "execution_count": 52,
     "metadata": {},
     "output_type": "execute_result"
    }
   ],
   "source": [
    "df_event_params.xs('firebase_previous_class', level=1, drop_level=False).info()\n",
    "df_event_params.xs('firebase_previous_class', level=1, drop_level=False)['params_value.string_value'].value_counts()"
   ]
  },
  {
   "cell_type": "markdown",
   "metadata": {},
   "source": [
    "# Merging dataframes on index1"
   ]
  },
  {
   "cell_type": "code",
   "execution_count": 53,
   "metadata": {},
   "outputs": [],
   "source": [
    "df_firebase_event_origin = df_event_params.xs('firebase_event_origin', level=1, drop_level=False)\\\n",
    "    .reset_index(level=[0,1], drop=False)\\\n",
    "    .drop(labels=['params_value.int_value','params_value.double_value','params_key'], axis=1)\\\n",
    "    .rename(columns={'params_value.string_value':'firebase_event_origin'})\n",
    "\n",
    "df_ga_session_number = df_event_params.xs('ga_session_number', level=1, drop_level=False)\\\n",
    "    .reset_index(level=[0,1], drop=False)\\\n",
    "    .drop(labels=['params_value.string_value','params_value.double_value','params_key'], axis=1)\\\n",
    "    .rename(columns={'params_value.int_value':'ga_session_number'})\n",
    "\n",
    "df_ga_session_id = df_event_params.xs('ga_session_id', level=1, drop_level=False)\\\n",
    "    .reset_index(level=[0,1], drop=False)\\\n",
    "    .drop(labels=['params_value.string_value','params_value.double_value','params_key'], axis=1)\\\n",
    "    .rename(columns={'params_value.int_value':'ga_session_id'})\n",
    "\n",
    "df_engaged_session_event = df_event_params.xs('engaged_session_event', level=1, drop_level=False)\\\n",
    "    .reset_index(level=[0,1], drop=False)\\\n",
    "    .drop(labels=['params_value.string_value','params_value.double_value','params_key'], axis=1)\\\n",
    "    .rename(columns={'params_value.int_value':'engaged_session_event'})\n",
    "\n",
    "df_firebase_screen_id = df_event_params.xs('firebase_screen_id', level=1, drop_level=False)\\\n",
    "    .reset_index(level=[0,1], drop=False)\\\n",
    "    .drop(labels=['params_value.string_value','params_value.double_value','params_key'], axis=1)\\\n",
    "    .rename(columns={'params_value.int_value':'firebase_screen_id'})\n",
    "\n",
    "df_firebase_screen_class = df_event_params.xs('firebase_screen_class', level=1, drop_level=False)\\\n",
    "    .reset_index(level=[0,1], drop=False)\\\n",
    "    .drop(labels=['params_value.int_value','params_value.double_value','params_key'], axis=1)\\\n",
    "    .rename(columns={'params_value.string_value':'firebase_screen_class'})\n",
    "\n",
    "df_engagement_time_msec = df_event_params.xs('engagement_time_msec', level=1, drop_level=False)\\\n",
    "    .reset_index(level=[0,1], drop=False)\\\n",
    "    .drop(labels=['params_value.string_value','params_value.double_value','params_key'], axis=1)\\\n",
    "    .rename(columns={'params_value.int_value':'engagement_time_msec'})\n",
    "\n",
    "df_firebase_previous_id = df_event_params.xs('firebase_previous_id', level=1, drop_level=False)\\\n",
    "    .reset_index(level=[0,1], drop=False)\\\n",
    "    .drop(labels=['params_value.string_value','params_value.double_value','params_key'], axis=1)\\\n",
    "    .rename(columns={'params_value.int_value':'firebase_previous_id'})\n",
    "\n",
    "df_firebase_previous_class = df_event_params.xs('firebase_previous_class', level=1, drop_level=False)\\\n",
    "    .reset_index(level=[0,1], drop=False)\\\n",
    "    .drop(labels=['params_value.int_value','params_value.double_value','params_key'], axis=1)\\\n",
    "    .rename(columns={'params_value.string_value':'firebase_previous_class'})"
   ]
  },
  {
   "cell_type": "code",
   "execution_count": 54,
   "metadata": {},
   "outputs": [],
   "source": [
    "# Merging all search params_key into 1 dataframe\n",
    "df_firebase = df_firebase_event_origin.\\\n",
    "    merge(df_ga_session_number, how='left').\\\n",
    "    merge(df_ga_session_id, how='left').\\\n",
    "    merge(df_engaged_session_event, how='left').\\\n",
    "    merge(df_firebase_screen_id, how='left').\\\n",
    "    merge(df_firebase_screen_class, how='left').\\\n",
    "    merge(df_engagement_time_msec, how='left').\\\n",
    "    merge(df_firebase_previous_id, how='left').\\\n",
    "    merge(df_firebase_previous_class, how='left')"
   ]
  },
  {
   "cell_type": "code",
   "execution_count": 55,
   "metadata": {},
   "outputs": [
    {
     "name": "stdout",
     "output_type": "stream",
     "text": [
      "<class 'pandas.core.frame.DataFrame'>\n",
      "Int64Index: 10939 entries, 0 to 10938\n",
      "Data columns (total 10 columns):\n",
      " #   Column                   Non-Null Count  Dtype  \n",
      "---  ------                   --------------  -----  \n",
      " 0   index1                   10939 non-null  int64  \n",
      " 1   firebase_event_origin    10939 non-null  object \n",
      " 2   ga_session_number        10921 non-null  float64\n",
      " 3   ga_session_id            10921 non-null  float64\n",
      " 4   engaged_session_event    10645 non-null  float64\n",
      " 5   firebase_screen_id       10486 non-null  float64\n",
      " 6   firebase_screen_class    10486 non-null  object \n",
      " 7   engagement_time_msec     4707 non-null   float64\n",
      " 8   firebase_previous_id     3629 non-null   float64\n",
      " 9   firebase_previous_class  3629 non-null   object \n",
      "dtypes: float64(6), int64(1), object(3)\n",
      "memory usage: 940.1+ KB\n"
     ]
    }
   ],
   "source": [
    "df_firebase.info()"
   ]
  },
  {
   "cell_type": "markdown",
   "metadata": {},
   "source": [
    "# Further inspection on remainder params_key"
   ]
  },
  {
   "cell_type": "markdown",
   "metadata": {},
   "source": [
    "### Entrances"
   ]
  },
  {
   "cell_type": "code",
   "execution_count": 56,
   "metadata": {},
   "outputs": [
    {
     "name": "stdout",
     "output_type": "stream",
     "text": [
      "<class 'pandas.core.frame.DataFrame'>\n",
      "MultiIndex: 473 entries, (2, 'entrances') to (10936, 'entrances')\n",
      "Data columns (total 3 columns):\n",
      " #   Column                     Non-Null Count  Dtype  \n",
      "---  ------                     --------------  -----  \n",
      " 0   params_value.string_value  0 non-null      object \n",
      " 1   params_value.int_value     473 non-null    float64\n",
      " 2   params_value.double_value  0 non-null      float64\n",
      "dtypes: float64(2), object(1)\n",
      "memory usage: 419.6+ KB\n"
     ]
    },
    {
     "data": {
      "text/plain": [
       "1.0    473\n",
       "Name: params_value.int_value, dtype: int64"
      ]
     },
     "execution_count": 56,
     "metadata": {},
     "output_type": "execute_result"
    }
   ],
   "source": [
    "df_event_params.xs('entrances', level=1, drop_level=False).info()\n",
    "df_event_params.xs('entrances', level=1, drop_level=False)['params_value.int_value'].value_counts()"
   ]
  },
  {
   "cell_type": "markdown",
   "metadata": {},
   "source": [
    "### Session_engaged"
   ]
  },
  {
   "cell_type": "code",
   "execution_count": 57,
   "metadata": {},
   "outputs": [
    {
     "name": "stdout",
     "output_type": "stream",
     "text": [
      "<class 'pandas.core.frame.DataFrame'>\n",
      "MultiIndex: 452 entries, (0, 'session_engaged') to (10934, 'session_engaged')\n",
      "Data columns (total 3 columns):\n",
      " #   Column                     Non-Null Count  Dtype  \n",
      "---  ------                     --------------  -----  \n",
      " 0   params_value.string_value  0 non-null      object \n",
      " 1   params_value.int_value     452 non-null    float64\n",
      " 2   params_value.double_value  0 non-null      float64\n",
      "dtypes: float64(2), object(1)\n",
      "memory usage: 419.0+ KB\n"
     ]
    },
    {
     "data": {
      "text/plain": [
       "1.0    452\n",
       "Name: params_value.int_value, dtype: int64"
      ]
     },
     "execution_count": 57,
     "metadata": {},
     "output_type": "execute_result"
    }
   ],
   "source": [
    "df_event_params.xs('session_engaged', level=1, drop_level=False).info()\n",
    "df_event_params.xs('session_engaged', level=1, drop_level=False)['params_value.int_value'].value_counts()"
   ]
  },
  {
   "cell_type": "markdown",
   "metadata": {},
   "source": [
    "### debug_event"
   ]
  },
  {
   "cell_type": "code",
   "execution_count": 58,
   "metadata": {},
   "outputs": [
    {
     "name": "stdout",
     "output_type": "stream",
     "text": [
      "<class 'pandas.core.frame.DataFrame'>\n",
      "MultiIndex: 242 entries, (43, 'debug_event') to (284, 'debug_event')\n",
      "Data columns (total 3 columns):\n",
      " #   Column                     Non-Null Count  Dtype  \n",
      "---  ------                     --------------  -----  \n",
      " 0   params_value.string_value  0 non-null      object \n",
      " 1   params_value.int_value     242 non-null    float64\n",
      " 2   params_value.double_value  0 non-null      float64\n",
      "dtypes: float64(2), object(1)\n",
      "memory usage: 413.5+ KB\n"
     ]
    },
    {
     "data": {
      "text/plain": [
       "1.0    242\n",
       "Name: params_value.int_value, dtype: int64"
      ]
     },
     "execution_count": 58,
     "metadata": {},
     "output_type": "execute_result"
    }
   ],
   "source": [
    "df_event_params.xs('debug_event', level=1, drop_level=False).info()\n",
    "df_event_params.xs('debug_event', level=1, drop_level=False)['params_value.int_value'].value_counts()"
   ]
  },
  {
   "cell_type": "markdown",
   "metadata": {},
   "source": [
    "### freeride"
   ]
  },
  {
   "cell_type": "code",
   "execution_count": 59,
   "metadata": {},
   "outputs": [
    {
     "name": "stdout",
     "output_type": "stream",
     "text": [
      "<class 'pandas.core.frame.DataFrame'>\n",
      "MultiIndex: 212 entries, (3, 'freeride') to (10931, 'freeride')\n",
      "Data columns (total 3 columns):\n",
      " #   Column                     Non-Null Count  Dtype  \n",
      "---  ------                     --------------  -----  \n",
      " 0   params_value.string_value  0 non-null      object \n",
      " 1   params_value.int_value     212 non-null    float64\n",
      " 2   params_value.double_value  0 non-null      float64\n",
      "dtypes: float64(2), object(1)\n",
      "memory usage: 412.7+ KB\n"
     ]
    },
    {
     "data": {
      "text/plain": [
       "1.0    212\n",
       "Name: params_value.int_value, dtype: int64"
      ]
     },
     "execution_count": 59,
     "metadata": {},
     "output_type": "execute_result"
    }
   ],
   "source": [
    "df_event_params.xs('freeride', level=1, drop_level=False).info()\n",
    "df_event_params.xs('freeride', level=1, drop_level=False)['params_value.int_value'].value_counts()"
   ]
  },
  {
   "cell_type": "markdown",
   "metadata": {},
   "source": [
    "### previous_os_version"
   ]
  },
  {
   "cell_type": "code",
   "execution_count": 60,
   "metadata": {},
   "outputs": [
    {
     "name": "stdout",
     "output_type": "stream",
     "text": [
      "<class 'pandas.core.frame.DataFrame'>\n",
      "MultiIndex: 57 entries, (317, 'previous_os_version') to (10502, 'previous_os_version')\n",
      "Data columns (total 3 columns):\n",
      " #   Column                     Non-Null Count  Dtype  \n",
      "---  ------                     --------------  -----  \n",
      " 0   params_value.string_value  57 non-null     object \n",
      " 1   params_value.int_value     0 non-null      float64\n",
      " 2   params_value.double_value  0 non-null      float64\n",
      "dtypes: float64(2), object(1)\n",
      "memory usage: 408.6+ KB\n"
     ]
    },
    {
     "data": {
      "text/plain": [
       "13.7      21\n",
       "14.0.1    11\n",
       "13.6.1     6\n",
       "14.1       3\n",
       "14.0       3\n",
       "10         2\n",
       "13.3       2\n",
       "13.6       2\n",
       "13.3.1     2\n",
       "11.1.2     1\n",
       "9          1\n",
       "8.0.0      1\n",
       "13.5.1     1\n",
       "12.4.8     1\n",
       "Name: params_value.string_value, dtype: int64"
      ]
     },
     "execution_count": 60,
     "metadata": {},
     "output_type": "execute_result"
    }
   ],
   "source": [
    "df_event_params.xs('previous_os_version', level=1, drop_level=False).info()\n",
    "df_event_params.xs('previous_os_version', level=1, drop_level=False)['params_value.string_value'].value_counts()"
   ]
  },
  {
   "cell_type": "markdown",
   "metadata": {},
   "source": [
    "### timestamp"
   ]
  },
  {
   "cell_type": "code",
   "execution_count": 61,
   "metadata": {},
   "outputs": [
    {
     "name": "stdout",
     "output_type": "stream",
     "text": [
      "<class 'pandas.core.frame.DataFrame'>\n",
      "MultiIndex: 11 entries, (315, 'timestamp') to (8032, 'timestamp')\n",
      "Data columns (total 3 columns):\n",
      " #   Column                     Non-Null Count  Dtype  \n",
      "---  ------                     --------------  -----  \n",
      " 0   params_value.string_value  0 non-null      object \n",
      " 1   params_value.int_value     3 non-null      float64\n",
      " 2   params_value.double_value  8 non-null      float64\n",
      "dtypes: float64(2), object(1)\n",
      "memory usage: 407.4+ KB\n"
     ]
    },
    {
     "data": {
      "text/plain": [
       "1.604771e+09    1\n",
       "1.604760e+09    1\n",
       "1.604758e+09    1\n",
       "Name: params_value.int_value, dtype: int64"
      ]
     },
     "execution_count": 61,
     "metadata": {},
     "output_type": "execute_result"
    }
   ],
   "source": [
    "df_event_params.xs('timestamp', level=1, drop_level=False).info()\n",
    "df_event_params.xs('timestamp', level=1, drop_level=False)['params_value.int_value'].value_counts()"
   ]
  },
  {
   "cell_type": "code",
   "execution_count": 62,
   "metadata": {},
   "outputs": [
    {
     "data": {
      "text/plain": [
       "1.604803e+09    1\n",
       "1.604737e+09    1\n",
       "1.604750e+09    1\n",
       "1.604800e+09    1\n",
       "1.604802e+09    1\n",
       "1.604788e+09    1\n",
       "1.604801e+09    1\n",
       "1.604745e+09    1\n",
       "Name: params_value.double_value, dtype: int64"
      ]
     },
     "execution_count": 62,
     "metadata": {},
     "output_type": "execute_result"
    }
   ],
   "source": [
    "df_event_params.xs('timestamp', level=1, drop_level=False)['params_value.double_value'].value_counts()"
   ]
  },
  {
   "cell_type": "markdown",
   "metadata": {},
   "source": [
    "### update_with_analytics"
   ]
  },
  {
   "cell_type": "code",
   "execution_count": 63,
   "metadata": {},
   "outputs": [
    {
     "name": "stdout",
     "output_type": "stream",
     "text": [
      "<class 'pandas.core.frame.DataFrame'>\n",
      "MultiIndex: 10 entries, (418, 'update_with_analytics') to (10645, 'update_with_analytics')\n",
      "Data columns (total 3 columns):\n",
      " #   Column                     Non-Null Count  Dtype  \n",
      "---  ------                     --------------  -----  \n",
      " 0   params_value.string_value  0 non-null      object \n",
      " 1   params_value.int_value     10 non-null     float64\n",
      " 2   params_value.double_value  0 non-null      float64\n",
      "dtypes: float64(2), object(1)\n",
      "memory usage: 407.4+ KB\n"
     ]
    },
    {
     "data": {
      "text/plain": [
       "1.0    5\n",
       "0.0    5\n",
       "Name: params_value.int_value, dtype: int64"
      ]
     },
     "execution_count": 63,
     "metadata": {},
     "output_type": "execute_result"
    }
   ],
   "source": [
    "df_event_params.xs('update_with_analytics', level=1, drop_level=False).info()\n",
    "df_event_params.xs('update_with_analytics', level=1, drop_level=False)['params_value.int_value'].value_counts()"
   ]
  },
  {
   "cell_type": "markdown",
   "metadata": {},
   "source": [
    "### firebase_conversion"
   ]
  },
  {
   "cell_type": "code",
   "execution_count": 64,
   "metadata": {},
   "outputs": [
    {
     "name": "stdout",
     "output_type": "stream",
     "text": [
      "<class 'pandas.core.frame.DataFrame'>\n",
      "MultiIndex: 10 entries, (418, 'firebase_conversion') to (10645, 'firebase_conversion')\n",
      "Data columns (total 3 columns):\n",
      " #   Column                     Non-Null Count  Dtype  \n",
      "---  ------                     --------------  -----  \n",
      " 0   params_value.string_value  0 non-null      object \n",
      " 1   params_value.int_value     10 non-null     float64\n",
      " 2   params_value.double_value  0 non-null      float64\n",
      "dtypes: float64(2), object(1)\n",
      "memory usage: 407.4+ KB\n"
     ]
    },
    {
     "data": {
      "text/plain": [
       "1.0    10\n",
       "Name: params_value.int_value, dtype: int64"
      ]
     },
     "execution_count": 64,
     "metadata": {},
     "output_type": "execute_result"
    }
   ],
   "source": [
    "df_event_params.xs('firebase_conversion', level=1, drop_level=False).info()\n",
    "df_event_params.xs('firebase_conversion', level=1, drop_level=False)['params_value.int_value'].value_counts()"
   ]
  },
  {
   "cell_type": "markdown",
   "metadata": {},
   "source": [
    "### previous_first_open_count"
   ]
  },
  {
   "cell_type": "code",
   "execution_count": 65,
   "metadata": {},
   "outputs": [
    {
     "name": "stdout",
     "output_type": "stream",
     "text": [
      "<class 'pandas.core.frame.DataFrame'>\n",
      "MultiIndex: 10 entries, (418, 'previous_first_open_count') to (10645, 'previous_first_open_count')\n",
      "Data columns (total 3 columns):\n",
      " #   Column                     Non-Null Count  Dtype  \n",
      "---  ------                     --------------  -----  \n",
      " 0   params_value.string_value  0 non-null      object \n",
      " 1   params_value.int_value     10 non-null     float64\n",
      " 2   params_value.double_value  0 non-null      float64\n",
      "dtypes: float64(2), object(1)\n",
      "memory usage: 407.4+ KB\n"
     ]
    },
    {
     "data": {
      "text/plain": [
       "0.0    10\n",
       "Name: params_value.int_value, dtype: int64"
      ]
     },
     "execution_count": 65,
     "metadata": {},
     "output_type": "execute_result"
    }
   ],
   "source": [
    "df_event_params.xs('previous_first_open_count', level=1, drop_level=False).info()\n",
    "df_event_params.xs('previous_first_open_count', level=1, drop_level=False)['params_value.int_value'].value_counts()"
   ]
  },
  {
   "cell_type": "markdown",
   "metadata": {},
   "source": [
    "### system_app"
   ]
  },
  {
   "cell_type": "code",
   "execution_count": 66,
   "metadata": {},
   "outputs": [
    {
     "name": "stdout",
     "output_type": "stream",
     "text": [
      "<class 'pandas.core.frame.DataFrame'>\n",
      "MultiIndex: 3 entries, (418, 'system_app') to (4902, 'system_app')\n",
      "Data columns (total 3 columns):\n",
      " #   Column                     Non-Null Count  Dtype  \n",
      "---  ------                     --------------  -----  \n",
      " 0   params_value.string_value  0 non-null      object \n",
      " 1   params_value.int_value     3 non-null      float64\n",
      " 2   params_value.double_value  0 non-null      float64\n",
      "dtypes: float64(2), object(1)\n",
      "memory usage: 407.2+ KB\n"
     ]
    },
    {
     "data": {
      "text/plain": [
       "0.0    3\n",
       "Name: params_value.int_value, dtype: int64"
      ]
     },
     "execution_count": 66,
     "metadata": {},
     "output_type": "execute_result"
    }
   ],
   "source": [
    "df_event_params.xs('system_app', level=1, drop_level=False).info()\n",
    "df_event_params.xs('system_app', level=1, drop_level=False)['params_value.int_value'].value_counts()"
   ]
  },
  {
   "cell_type": "markdown",
   "metadata": {},
   "source": [
    "### medium"
   ]
  },
  {
   "cell_type": "code",
   "execution_count": 67,
   "metadata": {},
   "outputs": [
    {
     "name": "stdout",
     "output_type": "stream",
     "text": [
      "<class 'pandas.core.frame.DataFrame'>\n",
      "MultiIndex: 3 entries, (412, 'medium') to (4904, 'medium')\n",
      "Data columns (total 3 columns):\n",
      " #   Column                     Non-Null Count  Dtype  \n",
      "---  ------                     --------------  -----  \n",
      " 0   params_value.string_value  3 non-null      object \n",
      " 1   params_value.int_value     0 non-null      float64\n",
      " 2   params_value.double_value  0 non-null      float64\n",
      "dtypes: float64(2), object(1)\n",
      "memory usage: 407.2+ KB\n"
     ]
    },
    {
     "data": {
      "text/plain": [
       "organic    3\n",
       "Name: params_value.string_value, dtype: int64"
      ]
     },
     "execution_count": 67,
     "metadata": {},
     "output_type": "execute_result"
    }
   ],
   "source": [
    "df_event_params.xs('medium', level=1, drop_level=False).info()\n",
    "df_event_params.xs('medium', level=1, drop_level=False)['params_value.string_value'].value_counts()"
   ]
  },
  {
   "cell_type": "markdown",
   "metadata": {},
   "source": [
    "### source"
   ]
  },
  {
   "cell_type": "code",
   "execution_count": 68,
   "metadata": {},
   "outputs": [
    {
     "name": "stdout",
     "output_type": "stream",
     "text": [
      "<class 'pandas.core.frame.DataFrame'>\n",
      "MultiIndex: 3 entries, (412, 'source') to (4904, 'source')\n",
      "Data columns (total 3 columns):\n",
      " #   Column                     Non-Null Count  Dtype  \n",
      "---  ------                     --------------  -----  \n",
      " 0   params_value.string_value  3 non-null      object \n",
      " 1   params_value.int_value     0 non-null      float64\n",
      " 2   params_value.double_value  0 non-null      float64\n",
      "dtypes: float64(2), object(1)\n",
      "memory usage: 407.2+ KB\n"
     ]
    },
    {
     "data": {
      "text/plain": [
       "google-play    3\n",
       "Name: params_value.string_value, dtype: int64"
      ]
     },
     "execution_count": 68,
     "metadata": {},
     "output_type": "execute_result"
    }
   ],
   "source": [
    "df_event_params.xs('source', level=1, drop_level=False).info()\n",
    "df_event_params.xs('source', level=1, drop_level=False)['params_value.string_value'].value_counts()"
   ]
  },
  {
   "cell_type": "markdown",
   "metadata": {},
   "source": [
    "### campaign_info_source"
   ]
  },
  {
   "cell_type": "code",
   "execution_count": 69,
   "metadata": {},
   "outputs": [
    {
     "name": "stdout",
     "output_type": "stream",
     "text": [
      "<class 'pandas.core.frame.DataFrame'>\n",
      "MultiIndex: 3 entries, (412, 'campaign_info_source') to (4904, 'campaign_info_source')\n",
      "Data columns (total 3 columns):\n",
      " #   Column                     Non-Null Count  Dtype  \n",
      "---  ------                     --------------  -----  \n",
      " 0   params_value.string_value  3 non-null      object \n",
      " 1   params_value.int_value     0 non-null      float64\n",
      " 2   params_value.double_value  0 non-null      float64\n",
      "dtypes: float64(2), object(1)\n",
      "memory usage: 407.2+ KB\n"
     ]
    },
    {
     "data": {
      "text/plain": [
       "referrer API v2    3\n",
       "Name: params_value.string_value, dtype: int64"
      ]
     },
     "execution_count": 69,
     "metadata": {},
     "output_type": "execute_result"
    }
   ],
   "source": [
    "df_event_params.xs('campaign_info_source', level=1, drop_level=False).info()\n",
    "df_event_params.xs('campaign_info_source', level=1, drop_level=False)['params_value.string_value'].value_counts()"
   ]
  },
  {
   "cell_type": "markdown",
   "metadata": {},
   "source": [
    "### system_app_update"
   ]
  },
  {
   "cell_type": "code",
   "execution_count": 70,
   "metadata": {},
   "outputs": [
    {
     "name": "stdout",
     "output_type": "stream",
     "text": [
      "<class 'pandas.core.frame.DataFrame'>\n",
      "MultiIndex: 3 entries, (418, 'system_app_update') to (4902, 'system_app_update')\n",
      "Data columns (total 3 columns):\n",
      " #   Column                     Non-Null Count  Dtype  \n",
      "---  ------                     --------------  -----  \n",
      " 0   params_value.string_value  0 non-null      object \n",
      " 1   params_value.int_value     3 non-null      float64\n",
      " 2   params_value.double_value  0 non-null      float64\n",
      "dtypes: float64(2), object(1)\n",
      "memory usage: 407.2+ KB\n"
     ]
    },
    {
     "data": {
      "text/plain": [
       "0.0    3\n",
       "Name: params_value.int_value, dtype: int64"
      ]
     },
     "execution_count": 70,
     "metadata": {},
     "output_type": "execute_result"
    }
   ],
   "source": [
    "df_event_params.xs('system_app_update', level=1, drop_level=False).info()\n",
    "df_event_params.xs('system_app_update', level=1, drop_level=False)['params_value.int_value'].value_counts()"
   ]
  },
  {
   "cell_type": "markdown",
   "metadata": {},
   "source": [
    "### previous_app_version"
   ]
  },
  {
   "cell_type": "code",
   "execution_count": 71,
   "metadata": {},
   "outputs": [
    {
     "name": "stdout",
     "output_type": "stream",
     "text": [
      "<class 'pandas.core.frame.DataFrame'>\n",
      "MultiIndex: 2 entries, (8731, 'previous_app_version') to (9567, 'previous_app_version')\n",
      "Data columns (total 3 columns):\n",
      " #   Column                     Non-Null Count  Dtype  \n",
      "---  ------                     --------------  -----  \n",
      " 0   params_value.string_value  2 non-null      object \n",
      " 1   params_value.int_value     0 non-null      float64\n",
      " 2   params_value.double_value  0 non-null      float64\n",
      "dtypes: float64(2), object(1)\n",
      "memory usage: 407.1+ KB\n"
     ]
    },
    {
     "data": {
      "text/plain": [
       "1.5.3    1\n",
       "1.5.6    1\n",
       "Name: params_value.string_value, dtype: int64"
      ]
     },
     "execution_count": 71,
     "metadata": {},
     "output_type": "execute_result"
    }
   ],
   "source": [
    "df_event_params.xs('previous_app_version', level=1, drop_level=False).info()\n",
    "df_event_params.xs('previous_app_version', level=1, drop_level=False)['params_value.string_value'].value_counts()"
   ]
  },
  {
   "cell_type": "markdown",
   "metadata": {},
   "source": [
    "Having look at all the remainder params_key, there is not enough data to do anything about it. Most values are either not useful or too scarce to be analyzed."
   ]
  },
  {
   "cell_type": "markdown",
   "metadata": {},
   "source": [
    "# Merging all dataframes"
   ]
  },
  {
   "cell_type": "code",
   "execution_count": 72,
   "metadata": {},
   "outputs": [],
   "source": [
    "df_event_params_merged_small = df_firebase.\\\n",
    "    merge(df_item, how='left').\\\n",
    "    merge(df_search, how='left')"
   ]
  }
 ],
 "metadata": {
  "kernelspec": {
   "display_name": "Python 3",
   "language": "python",
   "name": "python3"
  },
  "language_info": {
   "codemirror_mode": {
    "name": "ipython",
    "version": 3
   },
   "file_extension": ".py",
   "mimetype": "text/x-python",
   "name": "python",
   "nbconvert_exporter": "python",
   "pygments_lexer": "ipython3",
   "version": "3.8.5"
  }
 },
 "nbformat": 4,
 "nbformat_minor": 4
}
